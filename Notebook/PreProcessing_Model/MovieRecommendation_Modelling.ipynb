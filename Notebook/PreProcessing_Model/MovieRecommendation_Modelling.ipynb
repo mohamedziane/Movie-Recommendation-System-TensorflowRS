{
 "cells": [
  {
   "cell_type": "markdown",
   "id": "6ab16e12-1af8-4f46-b86a-8c783c03a440",
   "metadata": {},
   "source": [
    "# Modelling"
   ]
  },
  {
   "cell_type": "markdown",
   "id": "1190db52-967b-4690-8b22-1d7e772cce95",
   "metadata": {},
   "source": [
    "## Contents:\n",
    " \n",
    " * Introduction\n",
    " \n",
    " * Sourcing and Loading\n",
    "   * Importing relevant libraries\n",
    " \n",
    " * Dataset\n",
    "   * Preparing the datasets\n",
    "\n",
    " * Features Importance Using Deep & Cross Network (DCN-V2)\n",
    "   * Deep and cross network (DCN) came out of Google Research, and is designed to learn explicit and bounded-degree cross features effectively\n",
    "   * Feature Cross\n",
    "   * Cross Network\n",
    "   * Deep & Cross Network\n",
    "   * Model Structure\n",
    "   * Model construction\n",
    "   * Model Training\n",
    "   * DCN (stacked)\n",
    "   * Low-rank DCN\n",
    "   * DNN (Cross Layer = False)\n",
    "   \n",
    "   \n",
    " * The Two-Tower and Ranking Models\n",
    "   * Case 1: Baseline\n",
    "       * A Multi-Task Model\n",
    "           * Rating-specialized model\n",
    "\t\t   * Retrieval-specialized model\n",
    "\t\t   * Joint model: Baseline\n",
    "            * Summary of the Baseline Joint Model\n",
    "           \n",
    "   * Case 2: Tuned Joint Model\n",
    "        * Implementing a Retrieval Model\n",
    "\t\t* A Multi-Task Model\n",
    "\t\t* Joint model\n",
    "        \n",
    " * Summary of all models' metrics"
   ]
  },
  {
   "cell_type": "markdown",
   "id": "f4e4ee80-72db-4d51-b9e4-97337ae6cec5",
   "metadata": {},
   "source": [
    "### Introduction"
   ]
  },
  {
   "cell_type": "markdown",
   "id": "d3a149a4-fcf4-4ac4-876b-7eea11266e8d",
   "metadata": {},
   "source": [
    "For this final notebook, we will be dealing with:\n",
    "\n",
    "- The Feature importance using Deep and Cross Network (DCN-v2)\n",
    "\n",
    "- Training multiple TensorFlow Recommenders.\n",
    "\n",
    "- Applying hyperparameters tuning where applicable to ensure every algorithm will result in the best prediction possible.\n",
    "\n",
    "- Finally, evaluating these Models."
   ]
  },
  {
   "cell_type": "markdown",
   "id": "6eacf0d6-6203-41bf-8b46-8ebde7c52d4e",
   "metadata": {
    "tags": []
   },
   "source": [
    "### Sourcing and Loading\n",
    "**Importing relevant libraries**"
   ]
  },
  {
   "cell_type": "code",
   "execution_count": 1,
   "id": "f7c863e7-4c78-48cb-8393-d13c13cc4bd5",
   "metadata": {},
   "outputs": [],
   "source": [
    "# Import the necessary Libararies: \n",
    "\n",
    "import os\n",
    "import pprint\n",
    "import tempfile\n",
    "import matplotlib.pyplot as plt\n",
    "from typing import Dict, Text\n",
    "\n",
    "import numpy as np\n",
    "import tensorflow as tf\n",
    "import tensorflow_datasets as tfds\n",
    "from typing import Dict, Text\n",
    "import pandas as pd\n",
    "import numpy as np\n",
    "\n",
    "import tensorflow as tf\n",
    "\n",
    "import tensorflow_datasets as tfds\n",
    "import tensorflow_recommenders as tfrs\n",
    "\n",
    "from IPython.core.interactiveshell import InteractiveShell\n",
    "InteractiveShell.ast_node_interactivity = 'all'\n",
    "\n",
    "import seaborn as sns\n",
    "import matplotlib.pyplot as plt\n",
    "\n",
    "import re\n",
    "\n",
    "import warnings\n",
    "warnings.filterwarnings(\"ignore\")\n",
    "\n",
    "\n",
    "plt.style.use('ggplot')"
   ]
  },
  {
   "cell_type": "markdown",
   "id": "d35ac035-d5c8-4770-b292-a957de719da7",
   "metadata": {},
   "source": [
    "## Dataset: \n",
    "\n",
    "**Movie Lens** contains a set of movie ratings from the MovieLens website, a movie recommendation service. This dataset was collected and maintained by [GroupLens](https://grouplens.org/) , a research group at the University of Minnesota. There are 5 versions that include: \"25m\", \"latest-small\", \"100k\", \"1m\", \"20m\". In all of the datasets, the movies and ratings data are joined on \"movieId\". The 25m dataset, latest-small dataset, and 20m dataset contain only the movie and rating data. The 1m dataset and 100k dataset contain demographic data in addition to the movie and rating data.\n",
    "\n",
    "\n",
    "**[movie_lens/100k-ratings](https://www.tensorflow.org/datasets/catalog/movie_lens#movie_lens100k-ratings):**\n",
    " * Config description: This dataset contains 100,000 anonymous ratings of approximately 1,682 movies made by 943 MovieLens users who joined MovieLens. Ratings are in whole-star increments. This dataset contains demographic data of users in addition to data on movies and ratings.\n",
    " \n",
    " * This dataset is the second largest dataset that includes demographic data from movie_lens.\n",
    " * \"user_gender\": gender of the user who made the rating; a true value corresponds to male.\n",
    " * \"bucketized_user_age\": bucketized age values of the user who made the rating, the values and the corresponding ranges are:\n",
    "   * 1: \"Under 18\"\n",
    "   * 18: \"18-24\"\n",
    "   * 25: \"25-34\"\n",
    "   * 35: \"35-44\"\n",
    "   * 45: \"45-49\"\n",
    "   * 50: \"50-55\"\n",
    "   * 56: \"56+\"\n",
    " * \"movie_genres\": The Genres of the movies are classified into 21 different classes as below:\n",
    "   * 0: Action\n",
    "   * 1: Adventure\n",
    "   * 2: Animation\n",
    "   * 3: Children\n",
    "   * 4: Comedy\n",
    "   * 5: Crime\n",
    "   * 6: Documentary\n",
    "   * 7: Drama\n",
    "   * 8: Fantasy\n",
    "   * 9: Film-Noir\n",
    "   * 10: Horror\n",
    "   * 11: IMAX\n",
    "   * 12: Musical\n",
    "   * 13: Mystery\n",
    "   * 14: Romance\n",
    "   * 15: Sci-Fi\n",
    "   * 16: Thriller\n",
    "   * 17: Unknown\n",
    "   * 18: War\n",
    "   * 19: Western\n",
    "   * 20: no genres listed\n",
    "   \n",
    " * \"user_occupation_label\": the occupation of the user who made the rating represented by an integer-encoded label; labels are preprocessed to be consistent across different versions\n",
    " * \"user_occupation_text\": the occupation of the user who made the rating in the original string; different versions can have different set of raw text labels\n",
    " * \"user_zip_code\": the zip code of the user who made the rating.\n",
    " * Download size: 4.70 MiB\n",
    " * Dataset size: 32.41 MiB\n",
    " * Auto-cached ([documentation](https://www.tensorflow.org/datasets/performances#auto-caching)): No\n",
    " * Features:\n",
    " ```\n",
    " FeaturesDict({\n",
    "               'bucketized_user_age': tf.float32,\n",
    "               'movie_genres': Sequence(ClassLabel(shape=(), dtype=tf.int64, num_classes=21)),\n",
    "               'movie_id': tf.string,\n",
    "               'movie_title': tf.string,\n",
    "               'raw_user_age': tf.float32,\n",
    "               'timestamp': tf.int64,\n",
    "               'user_gender': tf.bool,\n",
    "               'user_id': tf.string,\n",
    "               'user_occupation_label': ClassLabel(shape=(), dtype=tf.int64, num_classes=22),\n",
    "               'user_occupation_text': tf.string,\n",
    "               'user_rating': tf.float32,\n",
    "               'user_zip_code': tf.string,\n",
    "              })\n",
    " ```\n",
    "**Example:**\n",
    "\n",
    "|bucketized_user_age\t|movie_genres|\tmovie_id|\tmovie_title|\traw_user_age|\ttimestamp|\tuser_gender|\tuser_id\t|user_occupation_label|\tuser_occupation_text\t|user_rating\t|user_zip_code|\n",
    "|:----:|:----:|:----:|:----:|:----:|:----:|:----:|:----:|:----:|:----:|:----:|:----:|\n",
    "|45.0\t|7 (Drama)|b'357'\t|b\"One Flew Over the Cuckoo's Nest (1975)\"\t|46.0\t|879024327\t|True\t|b'138'\t|4 (doctor/health care)\t|b'doctor'\t|4.0|\tb'53211'|\n"
   ]
  },
  {
   "cell_type": "markdown",
   "id": "19d9d46e-62fe-4676-8bb9-2abf9e64747c",
   "metadata": {},
   "source": [
    "### Preparing the datasets\n",
    "\n",
    "Let's have a first look at the data.\n",
    "\n",
    "We use the MovieLens dataset from Tensorflow Datasets. Loading **[movie_lens/100k-ratings](https://www.tensorflow.org/datasets/catalog/movie_lens#movie_lens100k-ratings)** yields a ***tf.data.Dataset*** object containing the ratings data and loading **[movie_lens/100k-movies](https://www.tensorflow.org/datasets/catalog/movie_lens#movie_lens100k-movies)** yields a ***tf.data.Dataset*** object containing only the movies data.\n",
    "\n",
    "Note that since the MovieLens dataset does not have predefined splits, all data are under train split."
   ]
  },
  {
   "cell_type": "markdown",
   "id": "78e135fd-3715-4620-ade0-19e239ebf99f",
   "metadata": {},
   "source": [
    "### Features Importance Using Deep & Cross Network (DCN-V2)"
   ]
  },
  {
   "cell_type": "markdown",
   "id": "aa256707-a47a-40eb-82ea-8373194ff3c8",
   "metadata": {},
   "source": [
    "**Deep and cross network (DCN) came out of Google Research, and is designed to learn explicit and bounded-degree cross features effectively**\n",
    "\n",
    "- Large and sparse feature space is extremely hard to train.\n",
    "- Oftentimes, we needed to do a lot of manual feature engineering, including designing cross features, which is very challenging and less effective.\n",
    "- Whilst possible to use additional neural networks under such circumstances, it's not the most efficient approach. DCN is specifically designed to tackle all of the above challenges.\n",
    "\n",
    "**Feature Cross**\n",
    "\n",
    "Let's say we're building a recommender system to sell a blender to customers. Then our customers' past purchase history, such as purchased apples and purchased recipes books, or geographic features are single features. If one has purchased both apples and recipes books, then this customer will be more likely to click on the recommended blender. The combination of purchased apples and the purchased recipes books is referred to as feature cross, which provides additional interaction information beyond the individual features.\n",
    "\n",
    "**Cross Network**\n",
    "\n",
    "In real world recommendation systems, we often have large and sparse feature space. So, identifying effective feature processes in this setting would often require manual feature engineering or exhaustive search, which is highly inefficient. To tackle this issue, Google Research team has proposed DCN. It starts with an input layer, typically an embedded layer, followed by a cross network containing multiple cross layers that models explicitly feature interactions, and then combines with a deep network that models implicit feature interactions. The deep network is just a traditional multilayer construction. But the core of DCN is really the cross network. It explicitly applies feature crossing at each layer. And the highest polynomial degree increases with layer depth.\n",
    "\n",
    "**Deep & Cross Network**\n",
    "\n",
    "There are a couple of ways to combine the cross network and the deep network:\n",
    "\n",
    "- Stack the deep network on top of the cross network.\n",
    "- Place deep & cross networks in parallel.\n",
    "\n",
    "**Model Structure**\n",
    "\n",
    "We first train a DCN model with a stacked structure, that is, the inputs are fed to a cross network followed by a deep network."
   ]
  },
  {
   "cell_type": "code",
   "execution_count": 87,
   "id": "9b8ca69f-bd1d-4156-8f08-362d1f3dbef1",
   "metadata": {},
   "outputs": [],
   "source": [
    "os.chdir(\"C:\\\\Users\\\\mohamed.ziane\\\\tensorflow_datasets\\\\Notebooks\")"
   ]
  },
  {
   "cell_type": "code",
   "execution_count": 88,
   "id": "54ff1e2b-8e0a-44c4-9d10-4b28047c8967",
   "metadata": {},
   "outputs": [],
   "source": [
    "# Now, let's look at the final dataframe where we merged the tensorflow dataset with movies_metadata.csv and credits.csv**\n",
    "\n",
    "ratings = pd.read_csv('ratings.csv', encoding='ISO-8859-1')"
   ]
  },
  {
   "cell_type": "code",
   "execution_count": 89,
   "id": "094634e9-2507-44ab-a7b8-b71f24c45659",
   "metadata": {},
   "outputs": [
    {
     "data": {
      "text/html": [
       "<div>\n",
       "<style scoped>\n",
       "    .dataframe tbody tr th:only-of-type {\n",
       "        vertical-align: middle;\n",
       "    }\n",
       "\n",
       "    .dataframe tbody tr th {\n",
       "        vertical-align: top;\n",
       "    }\n",
       "\n",
       "    .dataframe thead th {\n",
       "        text-align: right;\n",
       "    }\n",
       "</style>\n",
       "<table border=\"1\" class=\"dataframe\">\n",
       "  <thead>\n",
       "    <tr style=\"text-align: right;\">\n",
       "      <th></th>\n",
       "      <th>bucketized_user_age</th>\n",
       "      <th>movie_genres</th>\n",
       "      <th>movie_id</th>\n",
       "      <th>movie_title</th>\n",
       "      <th>timestamp</th>\n",
       "      <th>user_gender</th>\n",
       "      <th>user_id</th>\n",
       "      <th>user_occupation_label</th>\n",
       "      <th>user_occupation_text</th>\n",
       "      <th>user_rating</th>\n",
       "      <th>user_zip_code</th>\n",
       "      <th>director</th>\n",
       "      <th>release_date</th>\n",
       "      <th>star</th>\n",
       "    </tr>\n",
       "  </thead>\n",
       "  <tbody>\n",
       "    <tr>\n",
       "      <th>0</th>\n",
       "      <td>45</td>\n",
       "      <td>[7]</td>\n",
       "      <td>357</td>\n",
       "      <td>One Flew Over the Cuckoo's Nest</td>\n",
       "      <td>879024327</td>\n",
       "      <td>True</td>\n",
       "      <td>138</td>\n",
       "      <td>4</td>\n",
       "      <td>doctor</td>\n",
       "      <td>4</td>\n",
       "      <td>53211</td>\n",
       "      <td>Milos Forman</td>\n",
       "      <td>185500800</td>\n",
       "      <td>Jack Nicholson</td>\n",
       "    </tr>\n",
       "    <tr>\n",
       "      <th>1</th>\n",
       "      <td>25</td>\n",
       "      <td>[4, 14]</td>\n",
       "      <td>709</td>\n",
       "      <td>Strictly Ballroom</td>\n",
       "      <td>875654590</td>\n",
       "      <td>True</td>\n",
       "      <td>92</td>\n",
       "      <td>5</td>\n",
       "      <td>entertainment</td>\n",
       "      <td>2</td>\n",
       "      <td>80525</td>\n",
       "      <td>Baz Luhrmann</td>\n",
       "      <td>714268800</td>\n",
       "      <td>Paul Mercurio</td>\n",
       "    </tr>\n",
       "    <tr>\n",
       "      <th>2</th>\n",
       "      <td>50</td>\n",
       "      <td>[5, 7]</td>\n",
       "      <td>56</td>\n",
       "      <td>Pulp Fiction</td>\n",
       "      <td>883326919</td>\n",
       "      <td>True</td>\n",
       "      <td>60</td>\n",
       "      <td>4</td>\n",
       "      <td>healthcare</td>\n",
       "      <td>4</td>\n",
       "      <td>6472</td>\n",
       "      <td>Quentin Tarantino</td>\n",
       "      <td>779155200</td>\n",
       "      <td>John Travolta</td>\n",
       "    </tr>\n",
       "    <tr>\n",
       "      <th>3</th>\n",
       "      <td>50</td>\n",
       "      <td>[10, 16]</td>\n",
       "      <td>895</td>\n",
       "      <td>Scream 2</td>\n",
       "      <td>891409199</td>\n",
       "      <td>True</td>\n",
       "      <td>197</td>\n",
       "      <td>18</td>\n",
       "      <td>technician</td>\n",
       "      <td>3</td>\n",
       "      <td>75094</td>\n",
       "      <td>Wes Craven</td>\n",
       "      <td>881625600</td>\n",
       "      <td>David Arquette</td>\n",
       "    </tr>\n",
       "    <tr>\n",
       "      <th>4</th>\n",
       "      <td>18</td>\n",
       "      <td>[7, 16]</td>\n",
       "      <td>325</td>\n",
       "      <td>Crash</td>\n",
       "      <td>876346551</td>\n",
       "      <td>False</td>\n",
       "      <td>601</td>\n",
       "      <td>1</td>\n",
       "      <td>artist</td>\n",
       "      <td>4</td>\n",
       "      <td>99687</td>\n",
       "      <td>David Cronenberg</td>\n",
       "      <td>837561600</td>\n",
       "      <td>James Spader</td>\n",
       "    </tr>\n",
       "  </tbody>\n",
       "</table>\n",
       "</div>"
      ],
      "text/plain": [
       "   bucketized_user_age movie_genres  movie_id  \\\n",
       "0                   45          [7]       357   \n",
       "1                   25      [4, 14]       709   \n",
       "2                   50       [5, 7]        56   \n",
       "3                   50     [10, 16]       895   \n",
       "4                   18      [7, 16]       325   \n",
       "\n",
       "                       movie_title  timestamp  user_gender  user_id  \\\n",
       "0  One Flew Over the Cuckoo's Nest  879024327         True      138   \n",
       "1                Strictly Ballroom  875654590         True       92   \n",
       "2                     Pulp Fiction  883326919         True       60   \n",
       "3                         Scream 2  891409199         True      197   \n",
       "4                            Crash  876346551        False      601   \n",
       "\n",
       "   user_occupation_label user_occupation_text  user_rating  user_zip_code  \\\n",
       "0                      4               doctor            4          53211   \n",
       "1                      5        entertainment            2          80525   \n",
       "2                      4           healthcare            4           6472   \n",
       "3                     18           technician            3          75094   \n",
       "4                      1               artist            4          99687   \n",
       "\n",
       "            director  release_date            star  \n",
       "0       Milos Forman     185500800  Jack Nicholson  \n",
       "1       Baz Luhrmann     714268800   Paul Mercurio  \n",
       "2  Quentin Tarantino     779155200   John Travolta  \n",
       "3         Wes Craven     881625600  David Arquette  \n",
       "4   David Cronenberg     837561600    James Spader  "
      ]
     },
     "execution_count": 89,
     "metadata": {},
     "output_type": "execute_result"
    },
    {
     "name": "stdout",
     "output_type": "stream",
     "text": [
      "<class 'pandas.core.frame.DataFrame'>\n",
      "RangeIndex: 88649 entries, 0 to 88648\n",
      "Data columns (total 14 columns):\n",
      " #   Column                 Non-Null Count  Dtype \n",
      "---  ------                 --------------  ----- \n",
      " 0   bucketized_user_age    88649 non-null  int64 \n",
      " 1   movie_genres           88649 non-null  object\n",
      " 2   movie_id               88649 non-null  int64 \n",
      " 3   movie_title            88649 non-null  object\n",
      " 4   timestamp              88649 non-null  int64 \n",
      " 5   user_gender            88649 non-null  bool  \n",
      " 6   user_id                88649 non-null  int64 \n",
      " 7   user_occupation_label  88649 non-null  int64 \n",
      " 8   user_occupation_text   88649 non-null  object\n",
      " 9   user_rating            88649 non-null  int64 \n",
      " 10  user_zip_code          88649 non-null  int64 \n",
      " 11  director               88649 non-null  object\n",
      " 12  release_date           88649 non-null  int64 \n",
      " 13  star                   88649 non-null  object\n",
      "dtypes: bool(1), int64(8), object(5)\n",
      "memory usage: 8.9+ MB\n"
     ]
    }
   ],
   "source": [
    "# now let's look at the the table:\n",
    "\n",
    "ratings.head()\n",
    "ratings.info()"
   ]
  },
  {
   "cell_type": "code",
   "execution_count": 90,
   "id": "eba07cbc-20b3-456a-8c2e-f16ae831770d",
   "metadata": {},
   "outputs": [
    {
     "data": {
      "text/html": [
       "<div>\n",
       "<style scoped>\n",
       "    .dataframe tbody tr th:only-of-type {\n",
       "        vertical-align: middle;\n",
       "    }\n",
       "\n",
       "    .dataframe tbody tr th {\n",
       "        vertical-align: top;\n",
       "    }\n",
       "\n",
       "    .dataframe thead tr th {\n",
       "        text-align: left;\n",
       "    }\n",
       "</style>\n",
       "<table border=\"1\" class=\"dataframe\">\n",
       "  <thead>\n",
       "    <tr>\n",
       "      <th></th>\n",
       "      <th>count</th>\n",
       "      <th>data_type</th>\n",
       "      <th>missing_count</th>\n",
       "      <th>missing%</th>\n",
       "    </tr>\n",
       "  </thead>\n",
       "  <tbody>\n",
       "    <tr>\n",
       "      <th>bucketized_user_age</th>\n",
       "      <td>7</td>\n",
       "      <td>int64</td>\n",
       "      <td>0</td>\n",
       "      <td>0.0</td>\n",
       "    </tr>\n",
       "    <tr>\n",
       "      <th>movie_genres</th>\n",
       "      <td>179</td>\n",
       "      <td>object</td>\n",
       "      <td>0</td>\n",
       "      <td>0.0</td>\n",
       "    </tr>\n",
       "    <tr>\n",
       "      <th>movie_id</th>\n",
       "      <td>1117</td>\n",
       "      <td>object</td>\n",
       "      <td>0</td>\n",
       "      <td>0.0</td>\n",
       "    </tr>\n",
       "    <tr>\n",
       "      <th>movie_title</th>\n",
       "      <td>1099</td>\n",
       "      <td>object</td>\n",
       "      <td>0</td>\n",
       "      <td>0.0</td>\n",
       "    </tr>\n",
       "    <tr>\n",
       "      <th>timestamp</th>\n",
       "      <td>40530</td>\n",
       "      <td>int64</td>\n",
       "      <td>0</td>\n",
       "      <td>0.0</td>\n",
       "    </tr>\n",
       "    <tr>\n",
       "      <th>user_gender</th>\n",
       "      <td>2</td>\n",
       "      <td>bool</td>\n",
       "      <td>0</td>\n",
       "      <td>0.0</td>\n",
       "    </tr>\n",
       "    <tr>\n",
       "      <th>user_id</th>\n",
       "      <td>925</td>\n",
       "      <td>object</td>\n",
       "      <td>0</td>\n",
       "      <td>0.0</td>\n",
       "    </tr>\n",
       "    <tr>\n",
       "      <th>user_occupation_label</th>\n",
       "      <td>17</td>\n",
       "      <td>int64</td>\n",
       "      <td>0</td>\n",
       "      <td>0.0</td>\n",
       "    </tr>\n",
       "    <tr>\n",
       "      <th>user_occupation_text</th>\n",
       "      <td>21</td>\n",
       "      <td>object</td>\n",
       "      <td>0</td>\n",
       "      <td>0.0</td>\n",
       "    </tr>\n",
       "    <tr>\n",
       "      <th>user_rating</th>\n",
       "      <td>5</td>\n",
       "      <td>int64</td>\n",
       "      <td>0</td>\n",
       "      <td>0.0</td>\n",
       "    </tr>\n",
       "    <tr>\n",
       "      <th>user_zip_code</th>\n",
       "      <td>778</td>\n",
       "      <td>object</td>\n",
       "      <td>0</td>\n",
       "      <td>0.0</td>\n",
       "    </tr>\n",
       "    <tr>\n",
       "      <th>director</th>\n",
       "      <td>976</td>\n",
       "      <td>object</td>\n",
       "      <td>0</td>\n",
       "      <td>0.0</td>\n",
       "    </tr>\n",
       "    <tr>\n",
       "      <th>release_date</th>\n",
       "      <td>995</td>\n",
       "      <td>int64</td>\n",
       "      <td>0</td>\n",
       "      <td>0.0</td>\n",
       "    </tr>\n",
       "    <tr>\n",
       "      <th>star</th>\n",
       "      <td>915</td>\n",
       "      <td>object</td>\n",
       "      <td>0</td>\n",
       "      <td>0.0</td>\n",
       "    </tr>\n",
       "  </tbody>\n",
       "</table>\n",
       "</div>"
      ],
      "text/plain": [
       "                       count data_type missing_count missing%\n",
       "bucketized_user_age        7     int64             0      0.0\n",
       "movie_genres             179    object             0      0.0\n",
       "movie_id                1117    object             0      0.0\n",
       "movie_title             1099    object             0      0.0\n",
       "timestamp              40530     int64             0      0.0\n",
       "user_gender                2      bool             0      0.0\n",
       "user_id                  925    object             0      0.0\n",
       "user_occupation_label     17     int64             0      0.0\n",
       "user_occupation_text      21    object             0      0.0\n",
       "user_rating                5     int64             0      0.0\n",
       "user_zip_code            778    object             0      0.0\n",
       "director                 976    object             0      0.0\n",
       "release_date             995     int64             0      0.0\n",
       "star                     915    object             0      0.0"
      ]
     },
     "execution_count": 90,
     "metadata": {},
     "output_type": "execute_result"
    }
   ],
   "source": [
    "# movie_id from int to str:\n",
    "ratings['movie_id'] = ratings['movie_id'].astype('str')\n",
    "\n",
    "# user_id from int to str:\n",
    "ratings['user_id'] = ratings['user_id'].astype('str')\n",
    "\n",
    "# user_zip_code from int to str:\n",
    "ratings['user_zip_code'] = ratings['user_zip_code'].astype('str')\n",
    "\n",
    "#let's have a general view:\n",
    "ratings_missing = pd.concat([ratings.nunique(), ratings.dtypes, ratings.isnull().sum(), 100*ratings.isnull().mean()], axis=1)\n",
    "ratings_missing.columns = [['count', 'data_type', 'missing_count', 'missing%']]\n",
    "ratings_missing"
   ]
  },
  {
   "cell_type": "code",
   "execution_count": 91,
   "id": "0a131206-df6d-443d-8878-571fe41ae6ae",
   "metadata": {},
   "outputs": [],
   "source": [
    "#let's wrap the **pandas dataframe** into **tf.data.Dataset** object using **tf.data.Dataset.from_tensor_slices** using: tf.data.Dataset.from_tensor_slices\n",
    "ratings = tf.data.Dataset.from_tensor_slices(dict(ratings))"
   ]
  },
  {
   "cell_type": "code",
   "execution_count": 92,
   "id": "70ef3063-7507-4d5d-9d44-90fa3a69fb0a",
   "metadata": {},
   "outputs": [
    {
     "name": "stdout",
     "output_type": "stream",
     "text": [
      "{'bucketized_user_age': 45,\n",
      " 'director': b'Milos Forman',\n",
      " 'movie_genres': b'[7]',\n",
      " 'movie_id': b'357',\n",
      " 'movie_title': b\"One Flew Over the Cuckoo's Nest\",\n",
      " 'release_date': 185500800,\n",
      " 'star': b'Jack Nicholson',\n",
      " 'timestamp': 879024327,\n",
      " 'user_gender': True,\n",
      " 'user_id': b'138',\n",
      " 'user_occupation_label': 4,\n",
      " 'user_occupation_text': b'doctor',\n",
      " 'user_rating': 4,\n",
      " 'user_zip_code': b'53211'}\n"
     ]
    },
    {
     "data": {
      "text/plain": [
       "tensorflow.python.data.ops.dataset_ops.TensorSliceDataset"
      ]
     },
     "execution_count": 92,
     "metadata": {},
     "output_type": "execute_result"
    }
   ],
   "source": [
    "#The ratings dataset returns a dictionary of movie id, user id, the assigned rating, timestamp, movie information, and user information:\n",
    "#View the data from ratings dataset:\n",
    "for x in ratings.take(1).as_numpy_iterator():\n",
    "    pprint.pprint(x)\n",
    "    \n",
    "type(ratings)"
   ]
  },
  {
   "cell_type": "markdown",
   "id": "ae01a9e9-f82c-46a4-aab7-5918eb28549b",
   "metadata": {},
   "source": [
    "**Next, we're only going to extract the movie title and the user id.**\n",
    "\n",
    "- We are actually not going to extract the rating itself and the reason why is that we're treating these as implicit recommendations.\n",
    "- We are going to assume that any movie that a user rated is one that they were really interested in if they took the time to watch it and it therefore expresses some level of interest.\n",
    "\n",
    "*That being said, any rating is an implicit positive rating for a movie and the absence of a rating is an implicit negative rating for that movie.*"
   ]
  },
  {
   "cell_type": "code",
   "execution_count": 93,
   "id": "eddfba3c-6fe9-4c74-8e8d-bcfd98ab2fc2",
   "metadata": {},
   "outputs": [
    {
     "data": {
      "text/plain": [
       "88649"
      ]
     },
     "execution_count": 93,
     "metadata": {},
     "output_type": "execute_result"
    }
   ],
   "source": [
    "#Let's select the necessary attributes:\n",
    "\n",
    "ratings = ratings.map(lambda x: {\n",
    "                                 \"movie_id\": x[\"movie_id\"],\n",
    "                                 \"user_id\": x[\"user_id\"],\n",
    "                                 \"user_rating\": x[\"user_rating\"],\n",
    "                                 \"user_gender\": int(x[\"user_gender\"]),\n",
    "                                 \"user_zip_code\": x[\"user_zip_code\"],\n",
    "                                 \"user_occupation_text\": x[\"user_occupation_text\"],\n",
    "                                 \"director\": x[\"director\"],\n",
    "                                 \"star\": x[\"star\"],\n",
    "                                 \"movie_genres\": x[\"movie_genres\"],    \n",
    "                                 \"bucketized_user_age\": int(x[\"bucketized_user_age\"]),                                \n",
    "                                })\n",
    "\n",
    "len(ratings)"
   ]
  },
  {
   "cell_type": "code",
   "execution_count": 95,
   "id": "9bf9a429-7235-478b-914a-c46c2b856d39",
   "metadata": {},
   "outputs": [
    {
     "data": {
      "text/plain": [
       "88649"
      ]
     },
     "execution_count": 95,
     "metadata": {},
     "output_type": "execute_result"
    }
   ],
   "source": [
    "#Let's select the necessary attributes:\n",
    "\n",
    "ratings = ratings.map(lambda x: {\n",
    "                                 \"movie_id\": x[\"movie_id\"],\n",
    "                                 \"user_id\": x[\"user_id\"],\n",
    "                                 \"user_rating\": x[\"user_rating\"],\n",
    "                                 \"user_gender\": int(x[\"user_gender\"]),\n",
    "                                 \"user_zip_code\": x[\"user_zip_code\"],\n",
    "                                 \"user_occupation_text\": x[\"user_occupation_text\"],\n",
    "                                 \"director\": x[\"director\"],\n",
    "                                 \"star\": x[\"star\"],\n",
    "                                 \"movie_genres\": x[\"movie_genres\"],    \n",
    "                                 \"bucketized_user_age\": int(x[\"bucketized_user_age\"]),                                \n",
    "                                })\n",
    "\n",
    "len(ratings)"
   ]
  },
  {
   "cell_type": "code",
   "execution_count": 96,
   "id": "f823a311-127b-4171-93cd-78a0a46490ea",
   "metadata": {},
   "outputs": [],
   "source": [
    "# let's use a random split, putting 75% of the ratings in the train set, and 25% in the test set:\n",
    "# Assign a seed=42 for consistency of results and reproducibility:\n",
    "seed = 42\n",
    "l = len(ratings)\n",
    "\n",
    "tf.random.set_seed(seed)\n",
    "shuffled = ratings.shuffle(l, seed=seed, reshuffle_each_iteration=False)\n",
    "\n",
    "#Save 75% of the data for training and 25% for testing:\n",
    "train_ = int(0.75 * l)\n",
    "test_ = int(0.25 * l)\n",
    "\n",
    "train = shuffled.take(train_)\n",
    "test = shuffled.skip(train_).take(test_)"
   ]
  },
  {
   "cell_type": "code",
   "execution_count": 97,
   "id": "f82f19b7-edfb-480b-9039-66104d49ec5b",
   "metadata": {},
   "outputs": [],
   "source": [
    "#Then, let's create a vocabulary for each feature:\n",
    "\n",
    "feature_names = [\"movie_id\", \"user_id\", \"user_gender\", \"user_zip_code\",\n",
    "                 \"user_occupation_text\", \"bucketized_user_age\", \"director\", \"star\"]\n",
    "\n",
    "vocabularies = {}\n",
    "\n",
    "for feature_name in feature_names:\n",
    "    vocab = ratings.batch(l).map(lambda x: x[feature_name])\n",
    "    vocabularies[feature_name] = np.unique(np.concatenate(list(vocab)))"
   ]
  },
  {
   "cell_type": "markdown",
   "id": "13bc9a87-00f0-4198-8d7f-0870796a09f1",
   "metadata": {},
   "source": [
    "### Model construction\n",
    "- The model architecture we will be building starts with an embedded layer, which is fed into a cross network followed by a deep network. \n",
    "- The embedded dimension is set to 32 for all the features. \n",
    "- Please note that we could also have used different embedded sizes for different features."
   ]
  },
  {
   "cell_type": "code",
   "execution_count": 98,
   "id": "8a8480e7-29b0-449a-9253-e94b3b6f4766",
   "metadata": {},
   "outputs": [],
   "source": [
    "class DCN(tfrs.Model):\n",
    "    def __init__(self, use_cross_layer, deep_layer_sizes, projection_dim=None):\n",
    "        super().__init__()\n",
    "\n",
    "        self.embedding_dimension = 32\n",
    "\n",
    "        str_features = [\"movie_id\", \"user_id\", \"user_zip_code\", \n",
    "                        \"user_occupation_text\", \"director\", \"star\"]\n",
    "        int_features = [\"user_gender\", \"bucketized_user_age\"]\n",
    "\n",
    "        self._all_features = str_features + int_features\n",
    "        self._embeddings = {}\n",
    "\n",
    "        # Compute embeddings for string features. experimental.preprocessing\n",
    "        # WARNING:tensorflow:mask_value is deprecated, use mask_token instead.\n",
    "        for feature_name in str_features:\n",
    "            vocabulary = vocabularies[feature_name]\n",
    "            self._embeddings[feature_name] = tf.keras.Sequential(\n",
    "                                                                [tf.keras.layers.experimental.preprocessing.StringLookup(\n",
    "                                                                 vocabulary=vocabulary, mask_token=None),\n",
    "                                                                 tf.keras.layers.Embedding(len(vocabulary) + 1,\n",
    "                                                                 self.embedding_dimension)\n",
    "                                           ])\n",
    "      \n",
    "        # Compute embeddings for int features.\n",
    "        for feature_name in int_features:\n",
    "            vocabulary = vocabularies[feature_name]\n",
    "            self._embeddings[feature_name] = tf.keras.Sequential(\n",
    "                                                                 [tf.keras.layers.experimental.preprocessing.IntegerLookup(\n",
    "                                                                 vocabulary=vocabulary, mask_token=None), \n",
    "                                                                 tf.keras.layers.Embedding(len(vocabulary) + 1,\n",
    "                                                                 self.embedding_dimension)\n",
    "                                           ])\n",
    "\n",
    "        if use_cross_layer:\n",
    "            self._cross_layer = tfrs.layers.dcn.Cross(\n",
    "                                                      projection_dim=projection_dim,\n",
    "                                                      kernel_initializer=\"glorot_uniform\")\n",
    "        else:\n",
    "            self._cross_layer = None\n",
    "\n",
    "        self._deep_layers = [tf.keras.layers.Dense(layer_size, activation=\"relu\")\n",
    "            for layer_size in deep_layer_sizes]\n",
    "\n",
    "        self._logit_layer = tf.keras.layers.Dense(1)\n",
    "\n",
    "        self.task = tfrs.tasks.Ranking(\n",
    "            loss=tf.keras.losses.MeanSquaredError(),\n",
    "            metrics=[tf.keras.metrics.RootMeanSquaredError(\"RMSE\")]\n",
    "            )\n",
    "\n",
    "    def call(self, features):\n",
    "        # Concatenate embeddings\n",
    "        embeddings = []\n",
    "        for feature_name in self._all_features:\n",
    "            embedding_fn = self._embeddings[feature_name]\n",
    "            embeddings.append(embedding_fn(features[feature_name]))\n",
    "\n",
    "        x = tf.concat(embeddings, axis=1)\n",
    "\n",
    "        # Build Cross Network\n",
    "        if self._cross_layer is not None:\n",
    "            x = self._cross_layer(x)\n",
    "    \n",
    "    # Build Deep Network\n",
    "        for deep_layer in self._deep_layers:\n",
    "            x = deep_layer(x)\n",
    "\n",
    "        return self._logit_layer(x)\n",
    "\n",
    "    def compute_loss(self, features, training=False):\n",
    "        labels = features.pop(\"user_rating\")\n",
    "        scores = self(features)\n",
    "        return self.task(labels=labels,predictions=scores,\n",
    "        )        "
   ]
  },
  {
   "cell_type": "markdown",
   "id": "8db76b76-ef5e-46f6-89ad-6cacd469c926",
   "metadata": {},
   "source": [
    "### Model Training"
   ]
  },
  {
   "cell_type": "code",
   "execution_count": 99,
   "id": "7b3cc8ba-2774-4e2d-8e83-4445602f8de2",
   "metadata": {},
   "outputs": [],
   "source": [
    "# Shuffling, batching, and caching the training and evaluatiing the data:\n",
    "# Segmenting the batches so that the model runs 13 training batches (2^13) and 11 test batches (2^11) per epoch, \n",
    "# while having a batch size which is a multiple of 2^n.\n",
    "\n",
    "cached_train = train.shuffle(l).batch(8192).cache()\n",
    "cached_test = test.batch(2048).cache()"
   ]
  },
  {
   "cell_type": "code",
   "execution_count": 100,
   "id": "8f14c76a-e6d3-4e29-8e51-7ed2f4cbbcdf",
   "metadata": {},
   "outputs": [],
   "source": [
    "# Now let's define a function that runs a model multiple times and returns the model's RMSE mean and standard deviation out of multiple runs\n",
    "\n",
    "def run_models(use_cross_layer, deep_layer_sizes, projection_dim=None, num_runs=5):\n",
    "    models = []\n",
    "    rmses = []\n",
    "\n",
    "    for i in range(num_runs):\n",
    "        model = DCN(use_cross_layer=use_cross_layer,\n",
    "                    deep_layer_sizes=deep_layer_sizes,\n",
    "                    projection_dim=projection_dim)\n",
    "        model.compile(optimizer=tf.keras.optimizers.Adam(learning_rate))\n",
    "        models.append(model)\n",
    "\n",
    "        model.fit(cached_train, epochs=epochs, verbose=False)\n",
    "        metrics = model.evaluate(cached_test, return_dict=True)\n",
    "        rmses.append(metrics[\"RMSE\"])\n",
    "\n",
    "    mean, stdv = np.average(rmses), np.std(rmses)\n",
    "\n",
    "    return {\"model\": models, \"mean\": mean, \"stdv\": stdv}"
   ]
  },
  {
   "cell_type": "markdown",
   "id": "89f0fa15-da6e-433e-83b0-9aa114c04bcb",
   "metadata": {},
   "source": [
    "We set some hyper-parameters for the models. \n",
    "\n",
    "- Note that these hyper-parameters are set globally for all the models for demonstration purpose. \n",
    "\n",
    "- If you want to obtain the best performance for each model, or to conduct a fair comparison amongst models, I would suggest you to fine-tune the hyper-parameters. \n",
    "\n",
    "- Remember that the model architecture and optimization schemes are intertwined."
   ]
  },
  {
   "cell_type": "code",
   "execution_count": 101,
   "id": "22b0cdee-4553-4d6f-a53b-f51c866916c7",
   "metadata": {},
   "outputs": [],
   "source": [
    "epochs = 32\n",
    "learning_rate = 0.01"
   ]
  },
  {
   "cell_type": "markdown",
   "id": "2b9c9079-1a2f-4a2e-bd0b-fdcc93ab1498",
   "metadata": {},
   "source": [
    "### DCN (stacked)"
   ]
  },
  {
   "cell_type": "code",
   "execution_count": 102,
   "id": "cbe646ed-b645-432a-86f7-f313b95f5056",
   "metadata": {},
   "outputs": [
    {
     "name": "stdout",
     "output_type": "stream",
     "text": [
      "11/11 [==============================] - 2s 22ms/step - RMSE: 0.9840 - loss: 0.9661 - regularization_loss: 0.0000e+00 - total_loss: 0.9661\n",
      "11/11 [==============================] - 0s 8ms/step - RMSE: 1.0097 - loss: 1.0228 - regularization_loss: 0.0000e+00 - total_loss: 1.0228\n",
      "11/11 [==============================] - 0s 8ms/step - RMSE: 0.9365 - loss: 0.8768 - regularization_loss: 0.0000e+00 - total_loss: 0.8768\n",
      "11/11 [==============================] - 0s 7ms/step - RMSE: 0.9881 - loss: 0.9719 - regularization_loss: 0.0000e+00 - total_loss: 0.9719\n",
      "11/11 [==============================] - 0s 8ms/step - RMSE: 0.9872 - loss: 0.9718 - regularization_loss: 0.0000e+00 - total_loss: 0.9718\n"
     ]
    }
   ],
   "source": [
    "#We first train a DCN model with a stacked structure, that is, the inputs are fed to a cross network followed by a deep network.\n",
    "\n",
    "dcn_result = run_models(use_cross_layer=True, deep_layer_sizes=[192, 192])"
   ]
  },
  {
   "cell_type": "code",
   "execution_count": 103,
   "id": "fa8dd6b1-4688-483d-9dae-be3779d0d368",
   "metadata": {},
   "outputs": [
    {
     "data": {
      "text/plain": [
       "<Figure size 864x864 with 0 Axes>"
      ]
     },
     "execution_count": 103,
     "metadata": {},
     "output_type": "execute_result"
    },
    {
     "data": {
      "text/plain": [
       "<matplotlib.colorbar.Colorbar at 0x1fb7f0fd5e0>"
      ]
     },
     "execution_count": 103,
     "metadata": {},
     "output_type": "execute_result"
    },
    {
     "name": "stdout",
     "output_type": "stream",
     "text": [
      "Visualizing the Weight Matrix Learned by DCN\n"
     ]
    },
    {
     "data": {
      "text/plain": [
       "<Figure size 864x864 with 0 Axes>"
      ]
     },
     "metadata": {},
     "output_type": "display_data"
    },
    {
     "data": {
      "image/png": "[encoded data removed]",
      "text/plain": [
       "<Figure size 288x288 with 2 Axes>"
      ]
     },
     "metadata": {},
     "output_type": "display_data"
    }
   ],
   "source": [
    "from mpl_toolkits.axes_grid1 import make_axes_locatable\n",
    "\n",
    "model = dcn_result[\"model\"][0]\n",
    "mat = model._cross_layer._dense.kernel\n",
    "features = model._all_features\n",
    "\n",
    "block_norm = np.ones([len(features), len(features)])\n",
    "dim = model.embedding_dimension\n",
    "\n",
    "# Compute the norms of the blocks.\n",
    "for i in range(len(features)):\n",
    "    for j in range(len(features)):\n",
    "        block = mat[i * dim:(i + 1) * dim,\n",
    "                j * dim:(j + 1) * dim]\n",
    "        block_norm[i,j] = np.linalg.norm(block, ord=\"fro\")\n",
    "\n",
    "plt.figure(figsize=(12,12))\n",
    "im = plt.matshow(block_norm, cmap=plt.cm.Blues)\n",
    "ax = plt.gca()\n",
    "divider = make_axes_locatable(ax)\n",
    "cax = divider.append_axes(\"right\", size=\"5%\", pad=0.1)\n",
    "plt.colorbar(im, cax=cax)\n",
    "cax.tick_params(labelsize=10) \n",
    "_ = ax.set_xticklabels([\"\"] + features, rotation=45, ha=\"left\", fontsize=10)\n",
    "_ = ax.set_yticklabels([\"\"] + features, fontsize=10)\n",
    "#plt.title('Visualizing the Weight Matrix Learned by DCN')\n",
    "print('Visualizing the Weight Matrix Learned by DCN')"
   ]
  },
  {
   "cell_type": "markdown",
   "id": "a34e80f1-65fe-4e01-8041-8c876a128077",
   "metadata": {},
   "source": [
    "From the above graph, we can visualize the weights from the cross network and see if it has successfully learned the important feature process. \n",
    "\n",
    "As shown above, fro instance, the feature cross of user ID and movie ID are of great importance."
   ]
  },
  {
   "cell_type": "markdown",
   "id": "f19cc5aa-9b87-4599-bd52-06e2a8ceec65",
   "metadata": {},
   "source": [
    "### Low-rank DCN"
   ]
  },
  {
   "cell_type": "markdown",
   "id": "044ccbf5-6018-4c9c-a4c0-e0107befe8a8",
   "metadata": {},
   "source": [
    "To reduce the training and running cost, we leverage low-rank techniques to approximate the DCN weight matrices. \n",
    "\n",
    "- The rank is passed in through the projection_dim argument: a smaller projection_dim results in a lower cost. \n",
    "\n",
    "- Note that projection_dim needs to be smaller than the (input size)/2 to reduce the cost. In practice, we've observed that using a low-rank DCN with a rank of (input size)/4 consistently preserved the accuracy of a full-rank DCN."
   ]
  },
  {
   "cell_type": "code",
   "execution_count": 104,
   "id": "e7d4780e-b1ab-44e2-92a9-5b82659da88e",
   "metadata": {},
   "outputs": [
    {
     "name": "stdout",
     "output_type": "stream",
     "text": [
      "11/11 [==============================] - 0s 7ms/step - RMSE: 0.9584 - loss: 0.9179 - regularization_loss: 0.0000e+00 - total_loss: 0.9179\n",
      "11/11 [==============================] - 0s 7ms/step - RMSE: 0.9627 - loss: 0.9267 - regularization_loss: 0.0000e+00 - total_loss: 0.9267\n",
      "11/11 [==============================] - 0s 6ms/step - RMSE: 0.9787 - loss: 0.9578 - regularization_loss: 0.0000e+00 - total_loss: 0.9578\n",
      "11/11 [==============================] - 0s 9ms/step - RMSE: 0.9838 - loss: 0.9629 - regularization_loss: 0.0000e+00 - total_loss: 0.9629\n",
      "11/11 [==============================] - 0s 7ms/step - RMSE: 0.9496 - loss: 0.9042 - regularization_loss: 0.0000e+00 - total_loss: 0.9042\n"
     ]
    }
   ],
   "source": [
    "dcn_lr_result = run_models(use_cross_layer=True,\n",
    "                           projection_dim=20,\n",
    "                           deep_layer_sizes=[192, 192])"
   ]
  },
  {
   "cell_type": "markdown",
   "id": "b51c9c12-9d0f-4142-b9a3-4ce2d33637a7",
   "metadata": {},
   "source": [
    "### DNN (Cross Layer = False)"
   ]
  },
  {
   "cell_type": "code",
   "execution_count": 105,
   "id": "6588aaff-aa54-4eaf-8245-2155fe236985",
   "metadata": {},
   "outputs": [
    {
     "name": "stdout",
     "output_type": "stream",
     "text": [
      "11/11 [==============================] - 0s 7ms/step - RMSE: 0.9388 - loss: 0.8795 - regularization_loss: 0.0000e+00 - total_loss: 0.8795\n",
      "11/11 [==============================] - 0s 7ms/step - RMSE: 0.9515 - loss: 0.9034 - regularization_loss: 0.0000e+00 - total_loss: 0.9034\n",
      "11/11 [==============================] - 0s 8ms/step - RMSE: 0.9736 - loss: 0.9478 - regularization_loss: 0.0000e+00 - total_loss: 0.9478\n",
      "11/11 [==============================] - 0s 7ms/step - RMSE: 0.9537 - loss: 0.9108 - regularization_loss: 0.0000e+00 - total_loss: 0.9108\n",
      "11/11 [==============================] - 0s 7ms/step - RMSE: 0.9479 - loss: 0.8995 - regularization_loss: 0.0000e+00 - total_loss: 0.8995\n"
     ]
    }
   ],
   "source": [
    "# We train a same-sized DNN model as a reference.\n",
    "dnn_result = run_models(use_cross_layer=False,\n",
    "                        deep_layer_sizes=[192, 192, 192])"
   ]
  },
  {
   "cell_type": "code",
   "execution_count": 106,
   "id": "ca926a7a-81f8-43f4-9571-5dd5bc440fdc",
   "metadata": {},
   "outputs": [
    {
     "name": "stdout",
     "output_type": "stream",
     "text": [
      "DCN            RMSE mean: 0.9811, stdv: 0.0241\n",
      "DCN (low-rank) RMSE mean: 0.9666, stdv: 0.0128\n",
      "DNN            RMSE mean: 0.9531, stdv: 0.0115\n"
     ]
    }
   ],
   "source": [
    "print(\"DCN            RMSE mean: {:.4f}, stdv: {:.4f}\".format(dcn_result[\"mean\"], dcn_result[\"stdv\"]))\n",
    "print(\"DCN (low-rank) RMSE mean: {:.4f}, stdv: {:.4f}\".format(dcn_lr_result[\"mean\"], dcn_lr_result[\"stdv\"]))\n",
    "print(\"DNN            RMSE mean: {:.4f}, stdv: {:.4f}\".format(dnn_result[\"mean\"], dnn_result[\"stdv\"]))"
   ]
  },
  {
   "cell_type": "markdown",
   "id": "20d1d283-b53d-43f3-b0a5-916c72998934",
   "metadata": {
    "tags": []
   },
   "source": [
    "### Multi-Task Model - Joint Model\n",
    "\n",
    "### The Two-Tower and Ranking Models"
   ]
  },
  {
   "cell_type": "markdown",
   "id": "28dc032e-6048-416b-a9ae-a4bd2a21c6f6",
   "metadata": {},
   "source": [
    "**Real-world recommender systems are often composed of two stages:**\n",
    "\n",
    "- *The retrieval stage* (Selects recommendation candidates): is responsible for selecting an initial set of hundreds of candidates from all possible candidates. \n",
    "    - The main objective of this model is to efficiently weed out all candidates that the user is not interested in. Because the retrieval model may be dealing with millions of candidates, it has to be computationally efficient.\n",
    "\n",
    "- *The ranking stage* (Selects the best candidates and rank them): takes the outputs of the retrieval model and fine-tunes them to select the best possible handful of recommendations. \n",
    "    - Its task is to narrow down the set of items the user may be interested in to a shortlist of likely candidates.\n",
    "\n",
    "**Retrieval models are often composed of two sub-models:**\n",
    "\n",
    "The retrieval model embeds user ID's and movie ID's of rated movies into embedded layers of the same dimension:\n",
    "\n",
    "- A query model computing the query representation (normally a fixed-dimensionality embedding vector) using query features.\n",
    "\n",
    "- A candidate model computing the candidate representation (an equally-sized vector) using the candidate features.\n",
    "\n",
    "- As shown below, the two models are multiplied to create a query-candidate affinity scores for each rating during training. If the affinity score for the rating is higher than  other candidates, then we can consider the model to be reasonable."
   ]
  },
  {
   "cell_type": "markdown",
   "id": "73ee5b4b-83e8-4cb0-ad1b-63ba8725a5b6",
   "metadata": {},
   "source": [
    "**Embedded layer Magic**\n",
    "\n",
    "As discussed above, we might think of the embedded layers as just a way of encoding a way of forcing the categorical data into some sort of a standard format that can be easily fed into a neural network and usually that's how it's used but embedded layers are more than that! \n",
    "\n",
    "The way they're working under the hood is every unique id is being mapped to a vector of n dimensions, but it's going to be like a vector of 32 floating point values and we can think of this as a position in a 32-dimensional space that represents the similarity between one user id and another or between one movie id and another so by using embeddied layers in this way we're getting around that whole problem of data sparsity and sparse vectors and at the same time, we're getting a measure of similarity  so it's a very simple way of getting recommendation candidates.\n",
    "\n",
    "The outputs of the two models are then multiplied together to give a query-candidate affinity score, with higher scores expressing a better match between the candidate and the query.\n",
    "\n",
    "In this Model, we built and trained such a two-tower model using the Movielens dataset (100k Dataset):\n",
    "\n",
    "- Getting our data and splitting it into a training and test set.\n",
    "- Implementing a retrieval model.\n",
    "- Fitting and evaluating it."
   ]
  },
  {
   "cell_type": "markdown",
   "id": "0f333173-b77a-4a66-a365-46b9264221ef",
   "metadata": {},
   "source": [
    "**The Ranking**\n",
    "\n",
    "The ranking stage takes the outputs of the retrieval model and fine-tunes them to select the best possible handful of recommendations. \n",
    "- Its task is to narrow down the set of items the user may be interested in to a shortlist of likely candidates."
   ]
  },
  {
   "cell_type": "markdown",
   "id": "93830657-7459-4ffe-aeae-9a69292299e9",
   "metadata": {
    "jp-MarkdownHeadingCollapsed": true,
    "tags": []
   },
   "source": [
    "### Case 1: Baseline"
   ]
  },
  {
   "cell_type": "markdown",
   "id": "2e5d1627-cfb4-49b2-8ef3-348295e6e8ea",
   "metadata": {
    "tags": []
   },
   "source": [
    "### Double-checking the dataset"
   ]
  },
  {
   "cell_type": "code",
   "execution_count": 107,
   "id": "0978314c-2c04-4796-b4de-84e1b642ef97",
   "metadata": {},
   "outputs": [],
   "source": [
    "# Ratings data.\n",
    "ratings = pd.read_csv('ratings.csv', encoding='ISO-8859-1')\n",
    "# Features of all the available movies.\n",
    "movies = pd.read_csv('df_movies.csv', encoding='ISO-8859-1')"
   ]
  },
  {
   "cell_type": "code",
   "execution_count": 108,
   "id": "60cfb720-3759-4559-b13b-76cd80800356",
   "metadata": {},
   "outputs": [
    {
     "data": {
      "text/html": [
       "<div>\n",
       "<style scoped>\n",
       "    .dataframe tbody tr th:only-of-type {\n",
       "        vertical-align: middle;\n",
       "    }\n",
       "\n",
       "    .dataframe tbody tr th {\n",
       "        vertical-align: top;\n",
       "    }\n",
       "\n",
       "    .dataframe thead th {\n",
       "        text-align: right;\n",
       "    }\n",
       "</style>\n",
       "<table border=\"1\" class=\"dataframe\">\n",
       "  <thead>\n",
       "    <tr style=\"text-align: right;\">\n",
       "      <th></th>\n",
       "      <th>bucketized_user_age</th>\n",
       "      <th>movie_genres</th>\n",
       "      <th>movie_id</th>\n",
       "      <th>movie_title</th>\n",
       "      <th>timestamp</th>\n",
       "      <th>user_gender</th>\n",
       "      <th>user_id</th>\n",
       "      <th>user_occupation_label</th>\n",
       "      <th>user_occupation_text</th>\n",
       "      <th>user_rating</th>\n",
       "      <th>user_zip_code</th>\n",
       "      <th>director</th>\n",
       "      <th>release_date</th>\n",
       "      <th>star</th>\n",
       "    </tr>\n",
       "  </thead>\n",
       "  <tbody>\n",
       "    <tr>\n",
       "      <th>0</th>\n",
       "      <td>45</td>\n",
       "      <td>[7]</td>\n",
       "      <td>357</td>\n",
       "      <td>One Flew Over the Cuckoo's Nest</td>\n",
       "      <td>879024327</td>\n",
       "      <td>True</td>\n",
       "      <td>138</td>\n",
       "      <td>4</td>\n",
       "      <td>doctor</td>\n",
       "      <td>4</td>\n",
       "      <td>53211</td>\n",
       "      <td>Milos Forman</td>\n",
       "      <td>185500800</td>\n",
       "      <td>Jack Nicholson</td>\n",
       "    </tr>\n",
       "    <tr>\n",
       "      <th>1</th>\n",
       "      <td>25</td>\n",
       "      <td>[4, 14]</td>\n",
       "      <td>709</td>\n",
       "      <td>Strictly Ballroom</td>\n",
       "      <td>875654590</td>\n",
       "      <td>True</td>\n",
       "      <td>92</td>\n",
       "      <td>5</td>\n",
       "      <td>entertainment</td>\n",
       "      <td>2</td>\n",
       "      <td>80525</td>\n",
       "      <td>Baz Luhrmann</td>\n",
       "      <td>714268800</td>\n",
       "      <td>Paul Mercurio</td>\n",
       "    </tr>\n",
       "    <tr>\n",
       "      <th>2</th>\n",
       "      <td>50</td>\n",
       "      <td>[5, 7]</td>\n",
       "      <td>56</td>\n",
       "      <td>Pulp Fiction</td>\n",
       "      <td>883326919</td>\n",
       "      <td>True</td>\n",
       "      <td>60</td>\n",
       "      <td>4</td>\n",
       "      <td>healthcare</td>\n",
       "      <td>4</td>\n",
       "      <td>6472</td>\n",
       "      <td>Quentin Tarantino</td>\n",
       "      <td>779155200</td>\n",
       "      <td>John Travolta</td>\n",
       "    </tr>\n",
       "    <tr>\n",
       "      <th>3</th>\n",
       "      <td>50</td>\n",
       "      <td>[10, 16]</td>\n",
       "      <td>895</td>\n",
       "      <td>Scream 2</td>\n",
       "      <td>891409199</td>\n",
       "      <td>True</td>\n",
       "      <td>197</td>\n",
       "      <td>18</td>\n",
       "      <td>technician</td>\n",
       "      <td>3</td>\n",
       "      <td>75094</td>\n",
       "      <td>Wes Craven</td>\n",
       "      <td>881625600</td>\n",
       "      <td>David Arquette</td>\n",
       "    </tr>\n",
       "    <tr>\n",
       "      <th>4</th>\n",
       "      <td>18</td>\n",
       "      <td>[7, 16]</td>\n",
       "      <td>325</td>\n",
       "      <td>Crash</td>\n",
       "      <td>876346551</td>\n",
       "      <td>False</td>\n",
       "      <td>601</td>\n",
       "      <td>1</td>\n",
       "      <td>artist</td>\n",
       "      <td>4</td>\n",
       "      <td>99687</td>\n",
       "      <td>David Cronenberg</td>\n",
       "      <td>837561600</td>\n",
       "      <td>James Spader</td>\n",
       "    </tr>\n",
       "  </tbody>\n",
       "</table>\n",
       "</div>"
      ],
      "text/plain": [
       "   bucketized_user_age movie_genres  movie_id  \\\n",
       "0                   45          [7]       357   \n",
       "1                   25      [4, 14]       709   \n",
       "2                   50       [5, 7]        56   \n",
       "3                   50     [10, 16]       895   \n",
       "4                   18      [7, 16]       325   \n",
       "\n",
       "                       movie_title  timestamp  user_gender  user_id  \\\n",
       "0  One Flew Over the Cuckoo's Nest  879024327         True      138   \n",
       "1                Strictly Ballroom  875654590         True       92   \n",
       "2                     Pulp Fiction  883326919         True       60   \n",
       "3                         Scream 2  891409199         True      197   \n",
       "4                            Crash  876346551        False      601   \n",
       "\n",
       "   user_occupation_label user_occupation_text  user_rating  user_zip_code  \\\n",
       "0                      4               doctor            4          53211   \n",
       "1                      5        entertainment            2          80525   \n",
       "2                      4           healthcare            4           6472   \n",
       "3                     18           technician            3          75094   \n",
       "4                      1               artist            4          99687   \n",
       "\n",
       "            director  release_date            star  \n",
       "0       Milos Forman     185500800  Jack Nicholson  \n",
       "1       Baz Luhrmann     714268800   Paul Mercurio  \n",
       "2  Quentin Tarantino     779155200   John Travolta  \n",
       "3         Wes Craven     881625600  David Arquette  \n",
       "4   David Cronenberg     837561600    James Spader  "
      ]
     },
     "execution_count": 108,
     "metadata": {},
     "output_type": "execute_result"
    },
    {
     "name": "stdout",
     "output_type": "stream",
     "text": [
      "<class 'pandas.core.frame.DataFrame'>\n",
      "RangeIndex: 88649 entries, 0 to 88648\n",
      "Data columns (total 14 columns):\n",
      " #   Column                 Non-Null Count  Dtype \n",
      "---  ------                 --------------  ----- \n",
      " 0   bucketized_user_age    88649 non-null  int64 \n",
      " 1   movie_genres           88649 non-null  object\n",
      " 2   movie_id               88649 non-null  int64 \n",
      " 3   movie_title            88649 non-null  object\n",
      " 4   timestamp              88649 non-null  int64 \n",
      " 5   user_gender            88649 non-null  bool  \n",
      " 6   user_id                88649 non-null  int64 \n",
      " 7   user_occupation_label  88649 non-null  int64 \n",
      " 8   user_occupation_text   88649 non-null  object\n",
      " 9   user_rating            88649 non-null  int64 \n",
      " 10  user_zip_code          88649 non-null  int64 \n",
      " 11  director               88649 non-null  object\n",
      " 12  release_date           88649 non-null  int64 \n",
      " 13  star                   88649 non-null  object\n",
      "dtypes: bool(1), int64(8), object(5)\n",
      "memory usage: 8.9+ MB\n"
     ]
    },
    {
     "data": {
      "text/plain": [
       "(88649, 14)"
      ]
     },
     "execution_count": 108,
     "metadata": {},
     "output_type": "execute_result"
    }
   ],
   "source": [
    "# General Information\n",
    "ratings.head()\n",
    "ratings.info()\n",
    "ratings.shape"
   ]
  },
  {
   "cell_type": "code",
   "execution_count": 5,
   "id": "e2631ce5-4a92-4bb1-bb5b-75617f365802",
   "metadata": {},
   "outputs": [
    {
     "data": {
      "text/html": [
       "<div>\n",
       "<style scoped>\n",
       "    .dataframe tbody tr th:only-of-type {\n",
       "        vertical-align: middle;\n",
       "    }\n",
       "\n",
       "    .dataframe tbody tr th {\n",
       "        vertical-align: top;\n",
       "    }\n",
       "\n",
       "    .dataframe thead th {\n",
       "        text-align: right;\n",
       "    }\n",
       "</style>\n",
       "<table border=\"1\" class=\"dataframe\">\n",
       "  <thead>\n",
       "    <tr style=\"text-align: right;\">\n",
       "      <th></th>\n",
       "      <th>movie_genres</th>\n",
       "      <th>movie_id</th>\n",
       "      <th>movie_title</th>\n",
       "    </tr>\n",
       "  </thead>\n",
       "  <tbody>\n",
       "    <tr>\n",
       "      <th>0</th>\n",
       "      <td>[4]</td>\n",
       "      <td>b'1681'</td>\n",
       "      <td>b'You So Crazy (1994)'</td>\n",
       "    </tr>\n",
       "    <tr>\n",
       "      <th>1</th>\n",
       "      <td>[4 7]</td>\n",
       "      <td>b'1457'</td>\n",
       "      <td>b'Love Is All There Is (1996)'</td>\n",
       "    </tr>\n",
       "    <tr>\n",
       "      <th>2</th>\n",
       "      <td>[1 3]</td>\n",
       "      <td>b'500'</td>\n",
       "      <td>b'Fly Away Home (1996)'</td>\n",
       "    </tr>\n",
       "    <tr>\n",
       "      <th>3</th>\n",
       "      <td>[0]</td>\n",
       "      <td>b'838'</td>\n",
       "      <td>b'In the Line of Duty 2 (1987)'</td>\n",
       "    </tr>\n",
       "    <tr>\n",
       "      <th>4</th>\n",
       "      <td>[7]</td>\n",
       "      <td>b'1648'</td>\n",
       "      <td>b'Niagara, Niagara (1997)'</td>\n",
       "    </tr>\n",
       "  </tbody>\n",
       "</table>\n",
       "</div>"
      ],
      "text/plain": [
       "  movie_genres movie_id                      movie_title\n",
       "0          [4]  b'1681'           b'You So Crazy (1994)'\n",
       "1        [4 7]  b'1457'   b'Love Is All There Is (1996)'\n",
       "2        [1 3]   b'500'          b'Fly Away Home (1996)'\n",
       "3          [0]   b'838'  b'In the Line of Duty 2 (1987)'\n",
       "4          [7]  b'1648'       b'Niagara, Niagara (1997)'"
      ]
     },
     "execution_count": 5,
     "metadata": {},
     "output_type": "execute_result"
    },
    {
     "name": "stdout",
     "output_type": "stream",
     "text": [
      "<class 'pandas.core.frame.DataFrame'>\n",
      "RangeIndex: 1682 entries, 0 to 1681\n",
      "Data columns (total 3 columns):\n",
      " #   Column        Non-Null Count  Dtype \n",
      "---  ------        --------------  ----- \n",
      " 0   movie_genres  1682 non-null   object\n",
      " 1   movie_id      1682 non-null   object\n",
      " 2   movie_title   1682 non-null   object\n",
      "dtypes: object(3)\n",
      "memory usage: 39.5+ KB\n"
     ]
    },
    {
     "data": {
      "text/plain": [
       "(1682, 3)"
      ]
     },
     "execution_count": 5,
     "metadata": {},
     "output_type": "execute_result"
    }
   ],
   "source": [
    "# General Information\n",
    "movies.drop('Unnamed: 0', axis=1, inplace=True)\n",
    "movies.head()\n",
    "movies.info()\n",
    "movies.shape"
   ]
  },
  {
   "cell_type": "code",
   "execution_count": 6,
   "id": "516b7b46-90b2-4778-9d49-09cd5d5b99c9",
   "metadata": {},
   "outputs": [],
   "source": [
    "# movie_id from int to str:\n",
    "ratings['movie_id'] = ratings['movie_id'].astype('str')\n",
    "\n",
    "# movie_id from int to str:\n",
    "movies['movie_id'] = movies['movie_id'].astype('str')\n",
    "\n",
    "# user_id from int to str:\n",
    "ratings['user_id'] = ratings['user_id'].astype('str')\n",
    "\n",
    "# user_zip_code from int to str:\n",
    "ratings['user_zip_code'] = ratings['user_zip_code'].astype('str')"
   ]
  },
  {
   "cell_type": "code",
   "execution_count": 7,
   "id": "b9f31a08-a73d-49c4-830d-547a85f273d5",
   "metadata": {},
   "outputs": [
    {
     "data": {
      "text/html": [
       "<div>\n",
       "<style scoped>\n",
       "    .dataframe tbody tr th:only-of-type {\n",
       "        vertical-align: middle;\n",
       "    }\n",
       "\n",
       "    .dataframe tbody tr th {\n",
       "        vertical-align: top;\n",
       "    }\n",
       "\n",
       "    .dataframe thead tr th {\n",
       "        text-align: left;\n",
       "    }\n",
       "</style>\n",
       "<table border=\"1\" class=\"dataframe\">\n",
       "  <thead>\n",
       "    <tr>\n",
       "      <th></th>\n",
       "      <th>count</th>\n",
       "      <th>data_type</th>\n",
       "      <th>missing_count</th>\n",
       "      <th>missing%</th>\n",
       "    </tr>\n",
       "  </thead>\n",
       "  <tbody>\n",
       "    <tr>\n",
       "      <th>bucketized_user_age</th>\n",
       "      <td>7</td>\n",
       "      <td>int64</td>\n",
       "      <td>0</td>\n",
       "      <td>0.0</td>\n",
       "    </tr>\n",
       "    <tr>\n",
       "      <th>movie_genres</th>\n",
       "      <td>179</td>\n",
       "      <td>object</td>\n",
       "      <td>0</td>\n",
       "      <td>0.0</td>\n",
       "    </tr>\n",
       "    <tr>\n",
       "      <th>movie_id</th>\n",
       "      <td>1117</td>\n",
       "      <td>object</td>\n",
       "      <td>0</td>\n",
       "      <td>0.0</td>\n",
       "    </tr>\n",
       "    <tr>\n",
       "      <th>movie_title</th>\n",
       "      <td>1099</td>\n",
       "      <td>object</td>\n",
       "      <td>0</td>\n",
       "      <td>0.0</td>\n",
       "    </tr>\n",
       "    <tr>\n",
       "      <th>timestamp</th>\n",
       "      <td>40530</td>\n",
       "      <td>int64</td>\n",
       "      <td>0</td>\n",
       "      <td>0.0</td>\n",
       "    </tr>\n",
       "    <tr>\n",
       "      <th>user_gender</th>\n",
       "      <td>2</td>\n",
       "      <td>bool</td>\n",
       "      <td>0</td>\n",
       "      <td>0.0</td>\n",
       "    </tr>\n",
       "    <tr>\n",
       "      <th>user_id</th>\n",
       "      <td>925</td>\n",
       "      <td>object</td>\n",
       "      <td>0</td>\n",
       "      <td>0.0</td>\n",
       "    </tr>\n",
       "    <tr>\n",
       "      <th>user_occupation_label</th>\n",
       "      <td>17</td>\n",
       "      <td>int64</td>\n",
       "      <td>0</td>\n",
       "      <td>0.0</td>\n",
       "    </tr>\n",
       "    <tr>\n",
       "      <th>user_occupation_text</th>\n",
       "      <td>21</td>\n",
       "      <td>object</td>\n",
       "      <td>0</td>\n",
       "      <td>0.0</td>\n",
       "    </tr>\n",
       "    <tr>\n",
       "      <th>user_rating</th>\n",
       "      <td>5</td>\n",
       "      <td>int64</td>\n",
       "      <td>0</td>\n",
       "      <td>0.0</td>\n",
       "    </tr>\n",
       "    <tr>\n",
       "      <th>user_zip_code</th>\n",
       "      <td>778</td>\n",
       "      <td>object</td>\n",
       "      <td>0</td>\n",
       "      <td>0.0</td>\n",
       "    </tr>\n",
       "    <tr>\n",
       "      <th>director</th>\n",
       "      <td>976</td>\n",
       "      <td>object</td>\n",
       "      <td>0</td>\n",
       "      <td>0.0</td>\n",
       "    </tr>\n",
       "    <tr>\n",
       "      <th>release_date</th>\n",
       "      <td>995</td>\n",
       "      <td>int64</td>\n",
       "      <td>0</td>\n",
       "      <td>0.0</td>\n",
       "    </tr>\n",
       "    <tr>\n",
       "      <th>star</th>\n",
       "      <td>915</td>\n",
       "      <td>object</td>\n",
       "      <td>0</td>\n",
       "      <td>0.0</td>\n",
       "    </tr>\n",
       "  </tbody>\n",
       "</table>\n",
       "</div>"
      ],
      "text/plain": [
       "                       count data_type missing_count missing%\n",
       "bucketized_user_age        7     int64             0      0.0\n",
       "movie_genres             179    object             0      0.0\n",
       "movie_id                1117    object             0      0.0\n",
       "movie_title             1099    object             0      0.0\n",
       "timestamp              40530     int64             0      0.0\n",
       "user_gender                2      bool             0      0.0\n",
       "user_id                  925    object             0      0.0\n",
       "user_occupation_label     17     int64             0      0.0\n",
       "user_occupation_text      21    object             0      0.0\n",
       "user_rating                5     int64             0      0.0\n",
       "user_zip_code            778    object             0      0.0\n",
       "director                 976    object             0      0.0\n",
       "release_date             995     int64             0      0.0\n",
       "star                     915    object             0      0.0"
      ]
     },
     "execution_count": 7,
     "metadata": {},
     "output_type": "execute_result"
    }
   ],
   "source": [
    "#let's have a general view:\n",
    "ratings_missing = pd.concat([ratings.nunique(), ratings.dtypes, ratings.isnull().sum(), 100*ratings.isnull().mean()], axis=1)\n",
    "ratings_missing.columns = [['count', 'data_type', 'missing_count', 'missing%']]\n",
    "ratings_missing"
   ]
  },
  {
   "cell_type": "code",
   "execution_count": 8,
   "id": "2820e767-b355-4498-a1a6-f5bdd447e5dd",
   "metadata": {},
   "outputs": [
    {
     "data": {
      "text/html": [
       "<div>\n",
       "<style scoped>\n",
       "    .dataframe tbody tr th:only-of-type {\n",
       "        vertical-align: middle;\n",
       "    }\n",
       "\n",
       "    .dataframe tbody tr th {\n",
       "        vertical-align: top;\n",
       "    }\n",
       "\n",
       "    .dataframe thead tr th {\n",
       "        text-align: left;\n",
       "    }\n",
       "</style>\n",
       "<table border=\"1\" class=\"dataframe\">\n",
       "  <thead>\n",
       "    <tr>\n",
       "      <th></th>\n",
       "      <th>count</th>\n",
       "      <th>data_type</th>\n",
       "      <th>missing_count</th>\n",
       "      <th>missing%</th>\n",
       "    </tr>\n",
       "  </thead>\n",
       "  <tbody>\n",
       "    <tr>\n",
       "      <th>movie_genres</th>\n",
       "      <td>216</td>\n",
       "      <td>object</td>\n",
       "      <td>0</td>\n",
       "      <td>0.0</td>\n",
       "    </tr>\n",
       "    <tr>\n",
       "      <th>movie_id</th>\n",
       "      <td>1682</td>\n",
       "      <td>object</td>\n",
       "      <td>0</td>\n",
       "      <td>0.0</td>\n",
       "    </tr>\n",
       "    <tr>\n",
       "      <th>movie_title</th>\n",
       "      <td>1664</td>\n",
       "      <td>object</td>\n",
       "      <td>0</td>\n",
       "      <td>0.0</td>\n",
       "    </tr>\n",
       "  </tbody>\n",
       "</table>\n",
       "</div>"
      ],
      "text/plain": [
       "             count data_type missing_count missing%\n",
       "movie_genres   216    object             0      0.0\n",
       "movie_id      1682    object             0      0.0\n",
       "movie_title   1664    object             0      0.0"
      ]
     },
     "execution_count": 8,
     "metadata": {},
     "output_type": "execute_result"
    }
   ],
   "source": [
    "#let's have a general view:\n",
    "movies_missing = pd.concat([movies.nunique(), movies.dtypes, movies.isnull().sum(), 100*movies.isnull().mean()], axis=1)\n",
    "movies_missing.columns = [['count', 'data_type', 'missing_count', 'missing%']]\n",
    "movies_missing"
   ]
  },
  {
   "cell_type": "code",
   "execution_count": 9,
   "id": "0af4b0c5-0428-4b91-9d1e-b12bb1609271",
   "metadata": {},
   "outputs": [],
   "source": [
    "#let's wrap the **pandas dataframe** into **tf.data.Dataset** object using **tf.data.Dataset.from_tensor_slices** using: tf.data.Dataset.from_tensor_slices\n",
    "ratings = tf.data.Dataset.from_tensor_slices(dict(ratings))\n",
    "movies = tf.data.Dataset.from_tensor_slices(dict(movies))"
   ]
  },
  {
   "cell_type": "code",
   "execution_count": 10,
   "id": "02e2fd81-4a43-4f9c-a4b8-69e22cdc956f",
   "metadata": {},
   "outputs": [
    {
     "name": "stdout",
     "output_type": "stream",
     "text": [
      "{'bucketized_user_age': 45,\n",
      " 'director': b'Milos Forman',\n",
      " 'movie_genres': b'[7]',\n",
      " 'movie_id': b'357',\n",
      " 'movie_title': b\"One Flew Over the Cuckoo's Nest\",\n",
      " 'release_date': 185500800,\n",
      " 'star': b'Jack Nicholson',\n",
      " 'timestamp': 879024327,\n",
      " 'user_gender': True,\n",
      " 'user_id': b'138',\n",
      " 'user_occupation_label': 4,\n",
      " 'user_occupation_text': b'doctor',\n",
      " 'user_rating': 4,\n",
      " 'user_zip_code': b'53211'}\n"
     ]
    }
   ],
   "source": [
    "#The ratings dataset returns a dictionary of movie id, user id, the assigned rating, timestamp, movie information, and user information:\n",
    "#View the data from the ratings dataset:\n",
    "for x in ratings.take(1).as_numpy_iterator():\n",
    "    pprint.pprint(x)"
   ]
  },
  {
   "cell_type": "code",
   "execution_count": 11,
   "id": "cfef7fa6-2cfa-494e-940a-7c0caf6dc304",
   "metadata": {},
   "outputs": [
    {
     "name": "stdout",
     "output_type": "stream",
     "text": [
      "{'movie_genres': b'[4]',\n",
      " 'movie_id': b\"b'1681'\",\n",
      " 'movie_title': b\"b'You So Crazy (1994)'\"}\n"
     ]
    }
   ],
   "source": [
    "#The ratings dataset returns a dictionary of movie id, user id, the assigned rating, timestamp, movie information, and user information:\n",
    "#View the data from the movies dataset:\n",
    "for x in movies.take(1).as_numpy_iterator():\n",
    "    pprint.pprint(x)"
   ]
  },
  {
   "cell_type": "code",
   "execution_count": 12,
   "id": "99f7827c-c762-4ae4-9fa3-ed6826daade7",
   "metadata": {},
   "outputs": [],
   "source": [
    "# Selecting the basic features.\n",
    "ratings = ratings.map(lambda x: {\n",
    "    \"movie_title\": x[\"movie_title\"],\n",
    "    \"user_id\": x[\"user_id\"],\n",
    "    \"user_rating\": x[\"user_rating\"],\n",
    "})\n",
    "\n",
    "\n",
    "movies = movies.map(lambda x: x[\"movie_title\"])"
   ]
  },
  {
   "cell_type": "code",
   "execution_count": 13,
   "id": "13c076ad-6899-4f8c-8e03-6c5c2fa0e4ef",
   "metadata": {},
   "outputs": [],
   "source": [
    "# let's use a random split, putting 75% of the ratings in the train set, and 25% in the test set:\n",
    "# Assign a seed=42 for consistency of results and reproducibility:\n",
    "seed = 42\n",
    "l = len(ratings)\n",
    "\n",
    "tf.random.set_seed(seed)\n",
    "shuffled = ratings.shuffle(l, seed=seed, reshuffle_each_iteration=False)\n",
    "\n",
    "#Save 75% of the data for training and 25% for testing:\n",
    "train_ = int(0.75 * l)\n",
    "test_ = int(0.25 * l)\n",
    "\n",
    "train = shuffled.take(train_)\n",
    "test = shuffled.skip(train_).take(test_)"
   ]
  },
  {
   "cell_type": "code",
   "execution_count": 14,
   "id": "c44ef15d-2699-474b-bf24-ac74c1752e25",
   "metadata": {},
   "outputs": [
    {
     "data": {
      "text/plain": [
       "array([b'b\"\\'Til There Was You (1997)\"',\n",
       "       b'b\"Amityville 1992: It\\'s About Time (1992)\"',\n",
       "       b'b\"Antonia\\'s Line (1995)\"', b'b\"April Fool\\'s Day (1986)\"',\n",
       "       b'b\"Blood For Dracula (Andy Warhol\\'s Dracula) (1974)\"',\n",
       "       b'b\"Boy\\'s Life 2 (1997)\"', b'b\"Bram Stoker\\'s Dracula (1992)\"',\n",
       "       b'b\"Breakfast at Tiffany\\'s (1961)\"',\n",
       "       b'b\"Brother\\'s Kiss, A (1997)\"',\n",
       "       b'b\"C\\'est arriv\\\\xc3\\\\xa9 pr\\\\xc3\\\\xa8s de chez vous (1992)\"'],\n",
       "      dtype=object)"
      ]
     },
     "execution_count": 14,
     "metadata": {},
     "output_type": "execute_result"
    }
   ],
   "source": [
    "# Now, let's find out how many uniques users/movies:\n",
    "movie_titles = movies.batch(l)\n",
    "user_ids = ratings.batch(l).map(lambda x: x[\"user_id\"])\n",
    "\n",
    "#Movies uniques:\n",
    "unique_movie_titles = np.unique(np.concatenate(list(movie_titles)))\n",
    "\n",
    "#users unique\n",
    "unique_user_ids = np.unique(np.concatenate(list(user_ids)))\n",
    "\n",
    "# take a look at the movies:\n",
    "unique_movie_titles[:10]"
   ]
  },
  {
   "cell_type": "markdown",
   "id": "b622ae1f-297a-47fc-856c-dbb74b7ae27f",
   "metadata": {},
   "source": [
    "### A Multi-Task Model"
   ]
  },
  {
   "cell_type": "markdown",
   "id": "a1d811eb-8a8a-496b-9316-f9fa96ef9c69",
   "metadata": {},
   "source": [
    "There are two critical parts to multi-task recommenders:\n",
    "\n",
    "- They optimize for two or more objectives, and so have two or more losses.\n",
    "- They share variables between the tasks, allowing for transfer learning.\n",
    "\n",
    "Now, let's define our models as before, but instead of having a single task, we will have two tasks: one that predicts ratings, and one that predicts movie watches."
   ]
  },
  {
   "cell_type": "code",
   "execution_count": 15,
   "id": "ab67df5b-3aa5-4f80-b3dd-09dd5fdf43e0",
   "metadata": {},
   "outputs": [],
   "source": [
    "embedding_dimension = 32\n",
    "\n",
    "user_model = tf.keras.Sequential([\n",
    "  tf.keras.layers.experimental.preprocessing.StringLookup(\n",
    "      vocabulary=unique_user_ids, mask_token=None),\n",
    "  # We add 1 to account for the unknown token.\n",
    "  tf.keras.layers.Embedding(len(unique_user_ids) + 1, embedding_dimension)\n",
    "])\n",
    "\n",
    "movie_model = tf.keras.Sequential([\n",
    "  tf.keras.layers.experimental.preprocessing.StringLookup(\n",
    "      vocabulary=unique_movie_titles, mask_token=None),\n",
    "  tf.keras.layers.Embedding(len(unique_movie_titles) + 1, embedding_dimension)\n",
    "])"
   ]
  },
  {
   "cell_type": "code",
   "execution_count": 16,
   "id": "829c4555-5276-4a4c-8945-c37e71f86648",
   "metadata": {},
   "outputs": [
    {
     "data": {
      "text/plain": [
       "<tensorflow_recommenders.tasks.ranking.Ranking at 0x1fb1d7fee20>"
      ]
     },
     "execution_count": 16,
     "metadata": {},
     "output_type": "execute_result"
    }
   ],
   "source": [
    "#However, now we will have two tasks. The first is the rating task.\n",
    "# Its goal is to predict the ratings as accurately as possible.\n",
    "tfrs.tasks.Ranking(\n",
    "    loss=tf.keras.losses.MeanSquaredError(),\n",
    "    metrics=[tf.keras.metrics.RootMeanSquaredError()],\n",
    ")"
   ]
  },
  {
   "cell_type": "code",
   "execution_count": 17,
   "id": "9d74521d-d64b-427f-928d-1a875c6de03f",
   "metadata": {},
   "outputs": [
    {
     "data": {
      "text/plain": [
       "<tensorflow_recommenders.tasks.retrieval.Retrieval at 0x1fb0a269130>"
      ]
     },
     "execution_count": 17,
     "metadata": {},
     "output_type": "execute_result"
    }
   ],
   "source": [
    "# The second is the retrieval task:\n",
    "# As before, this task's goal is to predict which movies the user will or will not watch.\n",
    "tfrs.tasks.Retrieval(\n",
    "    metrics=tfrs.metrics.FactorizedTopK(\n",
    "        candidates=movies.batch(128)\n",
    "    )\n",
    ")"
   ]
  },
  {
   "cell_type": "markdown",
   "id": "e329db76-231d-47e6-bceb-47da89d64cf9",
   "metadata": {},
   "source": [
    "**Putting it together**\n",
    "\n",
    "- We put it all together in a model class.\n",
    "\n",
    "- The new component here is that - since we have two tasks and two losses - we need to decide on how important each loss is. We can do this by giving each of the losses a weight, and treating these weights as hyperparameters. \n",
    "    - If we assign a large loss weight to the rating task, our model is going to focus on predicting ratings (but still use some information from the retrieval task); if we assign a large loss weight to the retrieval task, it will focus on retrieval instead."
   ]
  },
  {
   "cell_type": "code",
   "execution_count": 18,
   "id": "51163738-77d4-48bd-8a68-6ae6d1cf8774",
   "metadata": {},
   "outputs": [],
   "source": [
    "class MovielensModel(tfrs.models.Model):\n",
    "    def __init__(self, rating_weight: float, retrieval_weight: float) -> None:\n",
    "        # We take the loss weights in the constructor: this allows us to instantiate\n",
    "        # several model objects with different loss weights.\n",
    "\n",
    "        super().__init__()\n",
    "\n",
    "        embedding_dimension = 32\n",
    "\n",
    "        # User and movie models.\n",
    "        self.movie_model: tf.keras.layers.Layer = tf.keras.Sequential([\n",
    "          tf.keras.layers.experimental.preprocessing.StringLookup(\n",
    "            vocabulary=unique_movie_titles, mask_token=None),\n",
    "          tf.keras.layers.Embedding(len(unique_movie_titles) + 1, embedding_dimension)\n",
    "        ])\n",
    "        self.user_model: tf.keras.layers.Layer = tf.keras.Sequential([\n",
    "          tf.keras.layers.experimental.preprocessing.StringLookup(\n",
    "            vocabulary=unique_user_ids, mask_token=None),\n",
    "          tf.keras.layers.Embedding(len(unique_user_ids) + 1, embedding_dimension)\n",
    "        ])\n",
    "\n",
    "        # A small model to take in user and movie embeddings and predict ratings.\n",
    "        # We can make this as complicated as we want as long as we output a scalar\n",
    "        # as our prediction.\n",
    "        self.rating_model = tf.keras.Sequential([\n",
    "            tf.keras.layers.Dense(256, activation=\"relu\"),\n",
    "            tf.keras.layers.Dense(128, activation=\"relu\"),\n",
    "            tf.keras.layers.Dense(1),\n",
    "        ])\n",
    "\n",
    "        # The tasks.\n",
    "        self.rating_task: tf.keras.layers.Layer = tfrs.tasks.Ranking(\n",
    "            loss=tf.keras.losses.MeanSquaredError(),\n",
    "            metrics=[tf.keras.metrics.RootMeanSquaredError()],\n",
    "        )\n",
    "        self.retrieval_task: tf.keras.layers.Layer = tfrs.tasks.Retrieval(\n",
    "            metrics=tfrs.metrics.FactorizedTopK(\n",
    "                candidates=movies.batch(128).map(self.movie_model)\n",
    "            )\n",
    "        )\n",
    "\n",
    "        # The loss weights.\n",
    "        self.rating_weight = rating_weight\n",
    "        self.retrieval_weight = retrieval_weight\n",
    "\n",
    "    def call(self, features: Dict[Text, tf.Tensor]) -> tf.Tensor:\n",
    "        # We pick out the user features and pass them into the user model.\n",
    "        user_embeddings = self.user_model(features[\"user_id\"])\n",
    "        # And pick out the movie features and pass them into the movie model.\n",
    "        movie_embeddings = self.movie_model(features[\"movie_title\"])\n",
    "\n",
    "        return (\n",
    "            user_embeddings,\n",
    "            movie_embeddings,\n",
    "            # We apply the multi-layered rating model to a concatentation of\n",
    "            # user and movie embeddings.\n",
    "            self.rating_model(\n",
    "                tf.concat([user_embeddings, movie_embeddings], axis=1)\n",
    "            ),\n",
    "        )\n",
    "\n",
    "    def compute_loss(self, features: Dict[Text, tf.Tensor], training=False) -> tf.Tensor:\n",
    "        ratings = features.pop(\"user_rating\")\n",
    "\n",
    "        user_embeddings, movie_embeddings, rating_predictions = self(features)\n",
    "\n",
    "        # We compute the loss for each task.\n",
    "        rating_loss = self.rating_task(\n",
    "                                      labels=ratings,\n",
    "                                      predictions=rating_predictions,\n",
    "                                      )\n",
    "        retrieval_loss = self.retrieval_task(user_embeddings, movie_embeddings)\n",
    "\n",
    "        # And combine them using the loss weights.\n",
    "        return (self.rating_weight * rating_loss\n",
    "                + self.retrieval_weight * retrieval_loss)"
   ]
  },
  {
   "cell_type": "markdown",
   "id": "d1830dfa-7242-4940-8e6c-bc2a1ba1a498",
   "metadata": {},
   "source": [
    "#### Rating-specialized model\n",
    "\n",
    "**Depending on the weights we assign, the model will encode a different balance of the tasks. Let's start with a model that only considers ratings**"
   ]
  },
  {
   "cell_type": "code",
   "execution_count": 38,
   "id": "6f207931-3860-44aa-9606-5459e07cf907",
   "metadata": {},
   "outputs": [],
   "source": [
    "model = MovielensModel(rating_weight=1.0, retrieval_weight=0.0)\n",
    "model.compile(optimizer=tf.keras.optimizers.Adagrad(0.1))"
   ]
  },
  {
   "cell_type": "code",
   "execution_count": 39,
   "id": "8fd01d70-69a7-4abc-b68d-22a86a549b6f",
   "metadata": {},
   "outputs": [],
   "source": [
    "# Then shuffling, batching, and caching the training and evaluation data:\n",
    "# Segmenting the batches so that the model runs 13 training batches (2^13) and 11 test batches (2^11) per epoch, \n",
    "# while having a batch size which is a multiple of 2^n.\n",
    "cached_train = train.shuffle(l).batch(8192).cache()\n",
    "cached_test = test.batch(2048).cache()"
   ]
  },
  {
   "cell_type": "code",
   "execution_count": 40,
   "id": "108f0db4-3a6d-45e5-8a2f-7801c79dd18a",
   "metadata": {},
   "outputs": [
    {
     "name": "stdout",
     "output_type": "stream",
     "text": [
      "Epoch 1/8\n",
      "9/9 [==============================] - 6s 537ms/step - root_mean_squared_error: 2.7931 - factorized_top_k/top_1_categorical_accuracy: 0.0883 - factorized_top_k/top_5_categorical_accuracy: 0.1250 - factorized_top_k/top_10_categorical_accuracy: 0.1446 - factorized_top_k/top_50_categorical_accuracy: 0.2018 - factorized_top_k/top_100_categorical_accuracy: 0.2409 - loss: 6.5844 - regularization_loss: 0.0000e+00 - total_loss: 6.5844\n",
      "Epoch 2/8\n",
      "9/9 [==============================] - 5s 601ms/step - root_mean_squared_error: 1.2663 - factorized_top_k/top_1_categorical_accuracy: 0.0900 - factorized_top_k/top_5_categorical_accuracy: 0.1269 - factorized_top_k/top_10_categorical_accuracy: 0.1489 - factorized_top_k/top_50_categorical_accuracy: 0.2305 - factorized_top_k/top_100_categorical_accuracy: 0.2763 - loss: 1.5562 - regularization_loss: 0.0000e+00 - total_loss: 1.5562\n",
      "Epoch 3/8\n",
      "9/9 [==============================] - 5s 554ms/step - root_mean_squared_error: 1.1430 - factorized_top_k/top_1_categorical_accuracy: 0.0759 - factorized_top_k/top_5_categorical_accuracy: 0.1105 - factorized_top_k/top_10_categorical_accuracy: 0.1280 - factorized_top_k/top_50_categorical_accuracy: 0.2114 - factorized_top_k/top_100_categorical_accuracy: 0.2665 - loss: 1.2868 - regularization_loss: 0.0000e+00 - total_loss: 1.2868\n",
      "Epoch 4/8\n",
      "9/9 [==============================] - 5s 557ms/step - root_mean_squared_error: 1.1019 - factorized_top_k/top_1_categorical_accuracy: 0.0710 - factorized_top_k/top_5_categorical_accuracy: 0.1068 - factorized_top_k/top_10_categorical_accuracy: 0.1205 - factorized_top_k/top_50_categorical_accuracy: 0.1983 - factorized_top_k/top_100_categorical_accuracy: 0.2649 - loss: 1.2086 - regularization_loss: 0.0000e+00 - total_loss: 1.2086\n",
      "Epoch 5/8\n",
      "9/9 [==============================] - 5s 593ms/step - root_mean_squared_error: 1.0995 - factorized_top_k/top_1_categorical_accuracy: 0.0736 - factorized_top_k/top_5_categorical_accuracy: 0.1043 - factorized_top_k/top_10_categorical_accuracy: 0.1196 - factorized_top_k/top_50_categorical_accuracy: 0.1927 - factorized_top_k/top_100_categorical_accuracy: 0.2604 - loss: 1.2016 - regularization_loss: 0.0000e+00 - total_loss: 1.2016\n",
      "Epoch 6/8\n",
      "9/9 [==============================] - 5s 567ms/step - root_mean_squared_error: 1.0913 - factorized_top_k/top_1_categorical_accuracy: 0.0730 - factorized_top_k/top_5_categorical_accuracy: 0.1036 - factorized_top_k/top_10_categorical_accuracy: 0.1161 - factorized_top_k/top_50_categorical_accuracy: 0.1932 - factorized_top_k/top_100_categorical_accuracy: 0.2488 - loss: 1.1835 - regularization_loss: 0.0000e+00 - total_loss: 1.1835\n",
      "Epoch 7/8\n",
      "9/9 [==============================] - 5s 580ms/step - root_mean_squared_error: 1.0824 - factorized_top_k/top_1_categorical_accuracy: 0.0729 - factorized_top_k/top_5_categorical_accuracy: 0.1029 - factorized_top_k/top_10_categorical_accuracy: 0.1123 - factorized_top_k/top_50_categorical_accuracy: 0.1900 - factorized_top_k/top_100_categorical_accuracy: 0.2403 - loss: 1.1634 - regularization_loss: 0.0000e+00 - total_loss: 1.1634\n",
      "Epoch 8/8\n",
      "9/9 [==============================] - 6s 621ms/step - root_mean_squared_error: 1.0713 - factorized_top_k/top_1_categorical_accuracy: 0.0712 - factorized_top_k/top_5_categorical_accuracy: 0.1007 - factorized_top_k/top_10_categorical_accuracy: 0.1116 - factorized_top_k/top_50_categorical_accuracy: 0.1843 - factorized_top_k/top_100_categorical_accuracy: 0.2339 - loss: 1.1387 - regularization_loss: 0.0000e+00 - total_loss: 1.1387\n"
     ]
    }
   ],
   "source": [
    "history_train  = model.fit(cached_train, epochs=8)"
   ]
  },
  {
   "cell_type": "code",
   "execution_count": 41,
   "id": "3d62c9db-6fa0-417e-b7b3-2fab28b4f3be",
   "metadata": {},
   "outputs": [
    {
     "data": {
      "text/plain": [
       "(<Figure size 1152x432 with 1 Axes>, <AxesSubplot:>)"
      ]
     },
     "execution_count": 41,
     "metadata": {},
     "output_type": "execute_result"
    },
    {
     "data": {
      "text/plain": [
       "[<matplotlib.lines.Line2D at 0x1fb0a3ac280>]"
      ]
     },
     "execution_count": 41,
     "metadata": {},
     "output_type": "execute_result"
    },
    {
     "data": {
      "text/plain": [
       "Text(0.5, 1.0, 'Total Loss over epochs')"
      ]
     },
     "execution_count": 41,
     "metadata": {},
     "output_type": "execute_result"
    },
    {
     "data": {
      "text/plain": [
       "Text(0, 0.5, 'Loss Total')"
      ]
     },
     "execution_count": 41,
     "metadata": {},
     "output_type": "execute_result"
    },
    {
     "data": {
      "text/plain": [
       "Text(0.5, 0, 'epochs')"
      ]
     },
     "execution_count": 41,
     "metadata": {},
     "output_type": "execute_result"
    },
    {
     "data": {
      "image/png": "[encoded data removed]",
      "text/plain": [
       "<Figure size 1152x432 with 1 Axes>"
      ]
     },
     "metadata": {},
     "output_type": "display_data"
    }
   ],
   "source": [
    "plt.subplots(figsize = (16,6))\n",
    "plt.plot(history_train.history['total_loss'] )\n",
    "plt.title(\"Total Loss over epochs\", fontsize=14)\n",
    "plt.ylabel('Loss Total')\n",
    "plt.xlabel('epochs')\n",
    "plt.show()"
   ]
  },
  {
   "cell_type": "markdown",
   "id": "dfaf8311-4a5f-4701-9c5b-ac08b6519dab",
   "metadata": {},
   "source": [
    "As the model trains, the loss is falling and a set of top-k retrieval metrics is updated. \n",
    "- These tell us whether the true positive is in the top-k retrieved items from the entire candidate set. \n",
    "- For example, a top-5 categorical accuracy metric of 0.2 would tell us that, on average, the true positive is in the top 5 retrieved items 20% of the time."
   ]
  },
  {
   "cell_type": "code",
   "execution_count": 42,
   "id": "291a4c37-6e54-426b-ae78-79118b6dfe9e",
   "metadata": {},
   "outputs": [
    {
     "name": "stdout",
     "output_type": "stream",
     "text": [
      "11/11 [==============================] - 2s 110ms/step - root_mean_squared_error: 1.0711 - factorized_top_k/top_1_categorical_accuracy: 0.0723 - factorized_top_k/top_5_categorical_accuracy: 0.1022 - factorized_top_k/top_10_categorical_accuracy: 0.1153 - factorized_top_k/top_50_categorical_accuracy: 0.1852 - factorized_top_k/top_100_categorical_accuracy: 0.2359 - loss: 1.1437 - regularization_loss: 0.0000e+00 - total_loss: 1.1437\n",
      "Retrieval top-100 accuracy: 0.236.\n",
      "Ranking RMSE: 1.071.\n"
     ]
    }
   ],
   "source": [
    "metrics = model.evaluate(cached_test, return_dict=True)\n",
    "\n",
    "print(f\"Retrieval top-100 accuracy: {metrics['factorized_top_k/top_100_categorical_accuracy']:.3f}.\")\n",
    "print(f\"Ranking RMSE: {metrics['root_mean_squared_error']:.3f}.\")"
   ]
  },
  {
   "cell_type": "markdown",
   "id": "a0da8d4d-2140-48f5-85b9-c9c0fd120017",
   "metadata": {},
   "source": [
    "**We get a good RMSE but with poor prediction**"
   ]
  },
  {
   "cell_type": "markdown",
   "id": "6972ab96-ece6-4d4b-a3cc-3b822bdc46ff",
   "metadata": {
    "tags": []
   },
   "source": [
    "### Retrieval-specialized model\n",
    "**Let's now try a model that focuses on retrieval only.**"
   ]
  },
  {
   "cell_type": "code",
   "execution_count": 34,
   "id": "14261ec7-2b09-42cf-9b84-4c77aeb84c91",
   "metadata": {},
   "outputs": [],
   "source": [
    "model = MovielensModel(rating_weight=0.0, retrieval_weight=1.0)\n",
    "model.compile(optimizer=tf.keras.optimizers.Adagrad(0.1))"
   ]
  },
  {
   "cell_type": "code",
   "execution_count": 35,
   "id": "f82a5d9e-96b4-4a5d-9686-020dc98694bc",
   "metadata": {},
   "outputs": [
    {
     "name": "stdout",
     "output_type": "stream",
     "text": [
      "Epoch 1/8\n",
      "9/9 [==============================] - 6s 548ms/step - root_mean_squared_error: 3.7024 - factorized_top_k/top_1_categorical_accuracy: 2.8577e-04 - factorized_top_k/top_5_categorical_accuracy: 5.2643e-04 - factorized_top_k/top_10_categorical_accuracy: 0.0010 - factorized_top_k/top_50_categorical_accuracy: 0.0225 - factorized_top_k/top_100_categorical_accuracy: 0.0576 - loss: 60356.6773 - regularization_loss: 0.0000e+00 - total_loss: 60356.6773\n",
      "Epoch 2/8\n",
      "9/9 [==============================] - 5s 547ms/step - root_mean_squared_error: 3.7024 - factorized_top_k/top_1_categorical_accuracy: 2.8577e-04 - factorized_top_k/top_5_categorical_accuracy: 5.2643e-04 - factorized_top_k/top_10_categorical_accuracy: 0.0010 - factorized_top_k/top_50_categorical_accuracy: 0.0225 - factorized_top_k/top_100_categorical_accuracy: 0.0576 - loss: 60356.6773 - regularization_loss: 0.0000e+00 - total_loss: 60356.6773\n",
      "Epoch 3/8\n",
      "9/9 [==============================] - 5s 553ms/step - root_mean_squared_error: 3.7024 - factorized_top_k/top_1_categorical_accuracy: 2.8577e-04 - factorized_top_k/top_5_categorical_accuracy: 5.2643e-04 - factorized_top_k/top_10_categorical_accuracy: 0.0010 - factorized_top_k/top_50_categorical_accuracy: 0.0225 - factorized_top_k/top_100_categorical_accuracy: 0.0576 - loss: 60356.6773 - regularization_loss: 0.0000e+00 - total_loss: 60356.6773\n",
      "Epoch 4/8\n",
      "9/9 [==============================] - 5s 561ms/step - root_mean_squared_error: 3.7024 - factorized_top_k/top_1_categorical_accuracy: 2.8577e-04 - factorized_top_k/top_5_categorical_accuracy: 5.2643e-04 - factorized_top_k/top_10_categorical_accuracy: 0.0010 - factorized_top_k/top_50_categorical_accuracy: 0.0225 - factorized_top_k/top_100_categorical_accuracy: 0.0576 - loss: 60356.6773 - regularization_loss: 0.0000e+00 - total_loss: 60356.6773\n",
      "Epoch 5/8\n",
      "9/9 [==============================] - 5s 567ms/step - root_mean_squared_error: 3.7024 - factorized_top_k/top_1_categorical_accuracy: 2.8577e-04 - factorized_top_k/top_5_categorical_accuracy: 5.2643e-04 - factorized_top_k/top_10_categorical_accuracy: 0.0010 - factorized_top_k/top_50_categorical_accuracy: 0.0225 - factorized_top_k/top_100_categorical_accuracy: 0.0576 - loss: 60356.6773 - regularization_loss: 0.0000e+00 - total_loss: 60356.6773\n",
      "Epoch 6/8\n",
      "9/9 [==============================] - 5s 591ms/step - root_mean_squared_error: 3.7024 - factorized_top_k/top_1_categorical_accuracy: 2.8577e-04 - factorized_top_k/top_5_categorical_accuracy: 5.2643e-04 - factorized_top_k/top_10_categorical_accuracy: 0.0010 - factorized_top_k/top_50_categorical_accuracy: 0.0225 - factorized_top_k/top_100_categorical_accuracy: 0.0576 - loss: 60356.6773 - regularization_loss: 0.0000e+00 - total_loss: 60356.6773\n",
      "Epoch 7/8\n",
      "9/9 [==============================] - 5s 563ms/step - root_mean_squared_error: 3.7024 - factorized_top_k/top_1_categorical_accuracy: 2.8577e-04 - factorized_top_k/top_5_categorical_accuracy: 5.2643e-04 - factorized_top_k/top_10_categorical_accuracy: 0.0010 - factorized_top_k/top_50_categorical_accuracy: 0.0225 - factorized_top_k/top_100_categorical_accuracy: 0.0576 - loss: 60356.6773 - regularization_loss: 0.0000e+00 - total_loss: 60356.6773\n",
      "Epoch 8/8\n",
      "9/9 [==============================] - 5s 569ms/step - root_mean_squared_error: 3.7024 - factorized_top_k/top_1_categorical_accuracy: 2.8577e-04 - factorized_top_k/top_5_categorical_accuracy: 5.2643e-04 - factorized_top_k/top_10_categorical_accuracy: 0.0010 - factorized_top_k/top_50_categorical_accuracy: 0.0225 - factorized_top_k/top_100_categorical_accuracy: 0.0576 - loss: 60356.6773 - regularization_loss: 0.0000e+00 - total_loss: 60356.6773\n"
     ]
    },
    {
     "data": {
      "text/plain": [
       "<tensorflow.python.keras.callbacks.History at 0x1fb0a521f10>"
      ]
     },
     "execution_count": 35,
     "metadata": {},
     "output_type": "execute_result"
    },
    {
     "name": "stdout",
     "output_type": "stream",
     "text": [
      "11/11 [==============================] - 2s 134ms/step - root_mean_squared_error: 3.6912 - factorized_top_k/top_1_categorical_accuracy: 3.1586e-04 - factorized_top_k/top_5_categorical_accuracy: 6.7683e-04 - factorized_top_k/top_10_categorical_accuracy: 0.0013 - factorized_top_k/top_50_categorical_accuracy: 0.0229 - factorized_top_k/top_100_categorical_accuracy: 0.0578 - loss: 15094.9468 - regularization_loss: 0.0000e+00 - total_loss: 15094.9468\n",
      "Retrieval top-100 accuracy: 0.058.\n",
      "Ranking RMSE: 3.691.\n"
     ]
    }
   ],
   "source": [
    "model.fit(cached_train, epochs=8)\n",
    "metrics = model.evaluate(cached_test, return_dict=True)\n",
    "\n",
    "print(f\"Retrieval top-100 accuracy: {metrics['factorized_top_k/top_100_categorical_accuracy']:.3f}.\")\n",
    "print(f\"Ranking RMSE: {metrics['root_mean_squared_error']:.3f}.\")"
   ]
  },
  {
   "cell_type": "markdown",
   "id": "cfafedbf-cae2-4af3-8ecc-042291dbb01c",
   "metadata": {},
   "source": [
    "**We get a less impressive RMSE coupled with a poor prediction too**"
   ]
  },
  {
   "cell_type": "markdown",
   "id": "4963b2b4-0e79-4e38-b036-9bef767a37aa",
   "metadata": {},
   "source": [
    "### Joint model: Baseline\n",
    "\n",
    "**Let's now train a model that assigns positive weights to both tasks.**"
   ]
  },
  {
   "cell_type": "code",
   "execution_count": 36,
   "id": "ffc394e3-2e64-4010-87a6-b404ae5d945f",
   "metadata": {},
   "outputs": [],
   "source": [
    "model = MovielensModel(rating_weight=1.0, retrieval_weight=1.0)\n",
    "model.compile(optimizer=tf.keras.optimizers.Adagrad(0.1))"
   ]
  },
  {
   "cell_type": "code",
   "execution_count": 37,
   "id": "4965a319-8005-4810-9a77-17f7c241b2fd",
   "metadata": {},
   "outputs": [
    {
     "name": "stdout",
     "output_type": "stream",
     "text": [
      "Epoch 1/8\n",
      "9/9 [==============================] - 6s 560ms/step - root_mean_squared_error: 2.7752 - factorized_top_k/top_1_categorical_accuracy: 0.0899 - factorized_top_k/top_5_categorical_accuracy: 0.1295 - factorized_top_k/top_10_categorical_accuracy: 0.1496 - factorized_top_k/top_50_categorical_accuracy: 0.2214 - factorized_top_k/top_100_categorical_accuracy: 0.2597 - loss: 60363.1939 - regularization_loss: 0.0000e+00 - total_loss: 60363.1939\n",
      "Epoch 2/8\n",
      "9/9 [==============================] - 5s 606ms/step - root_mean_squared_error: 1.2133 - factorized_top_k/top_1_categorical_accuracy: 0.0827 - factorized_top_k/top_5_categorical_accuracy: 0.1292 - factorized_top_k/top_10_categorical_accuracy: 0.1498 - factorized_top_k/top_50_categorical_accuracy: 0.2343 - factorized_top_k/top_100_categorical_accuracy: 0.2830 - loss: 60358.1180 - regularization_loss: 0.0000e+00 - total_loss: 60358.1180\n",
      "Epoch 3/8\n",
      "9/9 [==============================] - 5s 557ms/step - root_mean_squared_error: 1.1141 - factorized_top_k/top_1_categorical_accuracy: 0.0785 - factorized_top_k/top_5_categorical_accuracy: 0.1240 - factorized_top_k/top_10_categorical_accuracy: 0.1409 - factorized_top_k/top_50_categorical_accuracy: 0.2269 - factorized_top_k/top_100_categorical_accuracy: 0.2769 - loss: 60357.9208 - regularization_loss: 0.0000e+00 - total_loss: 60357.9208\n",
      "Epoch 4/8\n",
      "9/9 [==============================] - 5s 564ms/step - root_mean_squared_error: 1.1062 - factorized_top_k/top_1_categorical_accuracy: 0.0784 - factorized_top_k/top_5_categorical_accuracy: 0.1235 - factorized_top_k/top_10_categorical_accuracy: 0.1450 - factorized_top_k/top_50_categorical_accuracy: 0.2276 - factorized_top_k/top_100_categorical_accuracy: 0.2806 - loss: 60357.9053 - regularization_loss: 0.0000e+00 - total_loss: 60357.9053\n",
      "Epoch 5/8\n",
      "9/9 [==============================] - 5s 591ms/step - root_mean_squared_error: 1.1033 - factorized_top_k/top_1_categorical_accuracy: 0.0848 - factorized_top_k/top_5_categorical_accuracy: 0.1235 - factorized_top_k/top_10_categorical_accuracy: 0.1423 - factorized_top_k/top_50_categorical_accuracy: 0.2314 - factorized_top_k/top_100_categorical_accuracy: 0.2755 - loss: 60357.8980 - regularization_loss: 0.0000e+00 - total_loss: 60357.8980\n",
      "Epoch 6/8\n",
      "9/9 [==============================] - 5s 582ms/step - root_mean_squared_error: 1.0997 - factorized_top_k/top_1_categorical_accuracy: 0.0855 - factorized_top_k/top_5_categorical_accuracy: 0.1221 - factorized_top_k/top_10_categorical_accuracy: 0.1425 - factorized_top_k/top_50_categorical_accuracy: 0.2291 - factorized_top_k/top_100_categorical_accuracy: 0.2790 - loss: 60357.8893 - regularization_loss: 0.0000e+00 - total_loss: 60357.8893\n",
      "Epoch 7/8\n",
      "9/9 [==============================] - 5s 585ms/step - root_mean_squared_error: 1.0943 - factorized_top_k/top_1_categorical_accuracy: 0.0832 - factorized_top_k/top_5_categorical_accuracy: 0.1240 - factorized_top_k/top_10_categorical_accuracy: 0.1429 - factorized_top_k/top_50_categorical_accuracy: 0.2269 - factorized_top_k/top_100_categorical_accuracy: 0.2829 - loss: 60357.8762 - regularization_loss: 0.0000e+00 - total_loss: 60357.8762\n",
      "Epoch 8/8\n",
      "9/9 [==============================] - 5s 594ms/step - root_mean_squared_error: 1.0867 - factorized_top_k/top_1_categorical_accuracy: 0.0832 - factorized_top_k/top_5_categorical_accuracy: 0.1260 - factorized_top_k/top_10_categorical_accuracy: 0.1448 - factorized_top_k/top_50_categorical_accuracy: 0.2246 - factorized_top_k/top_100_categorical_accuracy: 0.2771 - loss: 60357.8569 - regularization_loss: 0.0000e+00 - total_loss: 60357.8569\n"
     ]
    },
    {
     "data": {
      "text/plain": [
       "<tensorflow.python.keras.callbacks.History at 0x1fb0a521e80>"
      ]
     },
     "execution_count": 37,
     "metadata": {},
     "output_type": "execute_result"
    },
    {
     "name": "stdout",
     "output_type": "stream",
     "text": [
      "11/11 [==============================] - 2s 131ms/step - root_mean_squared_error: 1.0865 - factorized_top_k/top_1_categorical_accuracy: 0.0888 - factorized_top_k/top_5_categorical_accuracy: 0.1375 - factorized_top_k/top_10_categorical_accuracy: 0.1474 - factorized_top_k/top_50_categorical_accuracy: 0.2260 - factorized_top_k/top_100_categorical_accuracy: 0.2854 - loss: 15096.1242 - regularization_loss: 0.0000e+00 - total_loss: 15096.1242\n",
      "Retrieval top-100 accuracy: 0.285.\n",
      "Ranking RMSE: 1.087.\n"
     ]
    }
   ],
   "source": [
    "model.fit(cached_train, epochs=8)\n",
    "metrics = model.evaluate(cached_test, return_dict=True)\n",
    "\n",
    "print(f\"Retrieval top-100 accuracy: {metrics['factorized_top_k/top_100_categorical_accuracy']:.3f}.\")\n",
    "print(f\"Ranking RMSE: {metrics['root_mean_squared_error']:.3f}.\")"
   ]
  },
  {
   "cell_type": "markdown",
   "id": "756688df-1e35-47ac-9e12-0e04a15e71a5",
   "metadata": {},
   "source": [
    "### Summary of the Baseline Joint Model "
   ]
  },
  {
   "cell_type": "markdown",
   "id": "c0d9c769-7dc7-42d2-b69b-e5204ea984d3",
   "metadata": {},
   "source": [
    "| Models | Retrieval top-10 accuracy | Retrieval top-100 accuracy | Ranking RMSE |\n",
    "| --- | --- | --- | --- |\n",
    "| Model: Rating-specialized model | 0.1153 | 0.236 | 1.071 |\n",
    "| Model: Retrieval-specialized model | 0.0013 | 0.058 | 3.691 |\n",
    "| Model: Joint model: Baseline | 0.1474 | 0.285 | 1.087 |"
   ]
  },
  {
   "cell_type": "markdown",
   "id": "07e32b83-de6b-426b-aa24-6a6e3d3eb095",
   "metadata": {},
   "source": [
    "**The joint model seems to provide an overall better prediction than the other independent models**"
   ]
  },
  {
   "cell_type": "markdown",
   "id": "4be27bd1-be4a-4184-bf28-eaee97f0a77c",
   "metadata": {},
   "source": [
    "**What can we improve upon the joint model?**\n",
    "\n",
    "- Adding more features\n",
    "- Optimize Embedding\n",
    "- embedding_dimension\n",
    "- epochs= 8 to 16\n",
    "- Learning rate"
   ]
  },
  {
   "cell_type": "markdown",
   "id": "f7828a63-afd9-4d82-8df3-dbed9f0d3e15",
   "metadata": {},
   "source": [
    "#### Case 2: Tuned Joint Model"
   ]
  },
  {
   "cell_type": "code",
   "execution_count": 43,
   "id": "ca3e0144-19ff-4a98-a04c-39c1d63e3dad",
   "metadata": {},
   "outputs": [],
   "source": [
    "# Re-Loading the datasets\n",
    "# Ratings data.\n",
    "ratings = pd.read_csv('ratings.csv', encoding='ISO-8859-1')\n",
    "# Features of all the available movies.\n",
    "movies = pd.read_csv('df_movies.csv', encoding='ISO-8859-1')"
   ]
  },
  {
   "cell_type": "code",
   "execution_count": 44,
   "id": "fde81b41-c316-4d4c-abd6-ebbff28b7c26",
   "metadata": {},
   "outputs": [],
   "source": [
    "# Making sure the types are consistend with tf\n",
    "ratings['movie_id'] = ratings['movie_id'].astype('str')\n",
    "movies['movie_id'] = movies['movie_id'].astype('str')\n",
    "ratings['user_id'] = ratings['user_id'].astype('str')\n",
    "ratings['user_zip_code'] = ratings['user_zip_code'].astype('str')\n",
    "ratings['bucketized_user_age'] = ratings['bucketized_user_age'].astype('int64')\n",
    "ratings['timestamp'] = ratings['timestamp'].astype('int64')\n",
    "ratings['release_date'] = ratings['release_date'].astype('int64')\n",
    "ratings['user_rating'] = ratings['user_rating'].astype('int64')\n"
   ]
  },
  {
   "cell_type": "code",
   "execution_count": 45,
   "id": "53f739d0-b072-49ac-acf0-80303c8bc85d",
   "metadata": {},
   "outputs": [
    {
     "data": {
      "text/html": [
       "<div>\n",
       "<style scoped>\n",
       "    .dataframe tbody tr th:only-of-type {\n",
       "        vertical-align: middle;\n",
       "    }\n",
       "\n",
       "    .dataframe tbody tr th {\n",
       "        vertical-align: top;\n",
       "    }\n",
       "\n",
       "    .dataframe thead tr th {\n",
       "        text-align: left;\n",
       "    }\n",
       "</style>\n",
       "<table border=\"1\" class=\"dataframe\">\n",
       "  <thead>\n",
       "    <tr>\n",
       "      <th></th>\n",
       "      <th>count</th>\n",
       "      <th>data_type</th>\n",
       "      <th>missing_count</th>\n",
       "      <th>missing%</th>\n",
       "    </tr>\n",
       "  </thead>\n",
       "  <tbody>\n",
       "    <tr>\n",
       "      <th>bucketized_user_age</th>\n",
       "      <td>7</td>\n",
       "      <td>int64</td>\n",
       "      <td>0</td>\n",
       "      <td>0.0</td>\n",
       "    </tr>\n",
       "    <tr>\n",
       "      <th>movie_genres</th>\n",
       "      <td>179</td>\n",
       "      <td>object</td>\n",
       "      <td>0</td>\n",
       "      <td>0.0</td>\n",
       "    </tr>\n",
       "    <tr>\n",
       "      <th>movie_id</th>\n",
       "      <td>1117</td>\n",
       "      <td>object</td>\n",
       "      <td>0</td>\n",
       "      <td>0.0</td>\n",
       "    </tr>\n",
       "    <tr>\n",
       "      <th>movie_title</th>\n",
       "      <td>1099</td>\n",
       "      <td>object</td>\n",
       "      <td>0</td>\n",
       "      <td>0.0</td>\n",
       "    </tr>\n",
       "    <tr>\n",
       "      <th>timestamp</th>\n",
       "      <td>40530</td>\n",
       "      <td>int64</td>\n",
       "      <td>0</td>\n",
       "      <td>0.0</td>\n",
       "    </tr>\n",
       "    <tr>\n",
       "      <th>user_gender</th>\n",
       "      <td>2</td>\n",
       "      <td>bool</td>\n",
       "      <td>0</td>\n",
       "      <td>0.0</td>\n",
       "    </tr>\n",
       "    <tr>\n",
       "      <th>user_id</th>\n",
       "      <td>925</td>\n",
       "      <td>object</td>\n",
       "      <td>0</td>\n",
       "      <td>0.0</td>\n",
       "    </tr>\n",
       "    <tr>\n",
       "      <th>user_occupation_label</th>\n",
       "      <td>17</td>\n",
       "      <td>int64</td>\n",
       "      <td>0</td>\n",
       "      <td>0.0</td>\n",
       "    </tr>\n",
       "    <tr>\n",
       "      <th>user_occupation_text</th>\n",
       "      <td>21</td>\n",
       "      <td>object</td>\n",
       "      <td>0</td>\n",
       "      <td>0.0</td>\n",
       "    </tr>\n",
       "    <tr>\n",
       "      <th>user_rating</th>\n",
       "      <td>5</td>\n",
       "      <td>int64</td>\n",
       "      <td>0</td>\n",
       "      <td>0.0</td>\n",
       "    </tr>\n",
       "    <tr>\n",
       "      <th>user_zip_code</th>\n",
       "      <td>778</td>\n",
       "      <td>object</td>\n",
       "      <td>0</td>\n",
       "      <td>0.0</td>\n",
       "    </tr>\n",
       "    <tr>\n",
       "      <th>director</th>\n",
       "      <td>976</td>\n",
       "      <td>object</td>\n",
       "      <td>0</td>\n",
       "      <td>0.0</td>\n",
       "    </tr>\n",
       "    <tr>\n",
       "      <th>release_date</th>\n",
       "      <td>995</td>\n",
       "      <td>int64</td>\n",
       "      <td>0</td>\n",
       "      <td>0.0</td>\n",
       "    </tr>\n",
       "    <tr>\n",
       "      <th>star</th>\n",
       "      <td>915</td>\n",
       "      <td>object</td>\n",
       "      <td>0</td>\n",
       "      <td>0.0</td>\n",
       "    </tr>\n",
       "  </tbody>\n",
       "</table>\n",
       "</div>"
      ],
      "text/plain": [
       "                       count data_type missing_count missing%\n",
       "bucketized_user_age        7     int64             0      0.0\n",
       "movie_genres             179    object             0      0.0\n",
       "movie_id                1117    object             0      0.0\n",
       "movie_title             1099    object             0      0.0\n",
       "timestamp              40530     int64             0      0.0\n",
       "user_gender                2      bool             0      0.0\n",
       "user_id                  925    object             0      0.0\n",
       "user_occupation_label     17     int64             0      0.0\n",
       "user_occupation_text      21    object             0      0.0\n",
       "user_rating                5     int64             0      0.0\n",
       "user_zip_code            778    object             0      0.0\n",
       "director                 976    object             0      0.0\n",
       "release_date             995     int64             0      0.0\n",
       "star                     915    object             0      0.0"
      ]
     },
     "execution_count": 45,
     "metadata": {},
     "output_type": "execute_result"
    }
   ],
   "source": [
    "#let's have a general view:\n",
    "ratings_missing = pd.concat([ratings.nunique(), ratings.dtypes, ratings.isnull().sum(), 100*ratings.isnull().mean()], axis=1)\n",
    "ratings_missing.columns = [['count', 'data_type', 'missing_count', 'missing%']]\n",
    "ratings_missing"
   ]
  },
  {
   "cell_type": "code",
   "execution_count": 46,
   "id": "612a89b1-06da-4aa1-a7e3-ca9ae8f1986d",
   "metadata": {},
   "outputs": [
    {
     "data": {
      "text/html": [
       "<div>\n",
       "<style scoped>\n",
       "    .dataframe tbody tr th:only-of-type {\n",
       "        vertical-align: middle;\n",
       "    }\n",
       "\n",
       "    .dataframe tbody tr th {\n",
       "        vertical-align: top;\n",
       "    }\n",
       "\n",
       "    .dataframe thead tr th {\n",
       "        text-align: left;\n",
       "    }\n",
       "</style>\n",
       "<table border=\"1\" class=\"dataframe\">\n",
       "  <thead>\n",
       "    <tr>\n",
       "      <th></th>\n",
       "      <th>count</th>\n",
       "      <th>data_type</th>\n",
       "      <th>missing_count</th>\n",
       "      <th>missing%</th>\n",
       "    </tr>\n",
       "  </thead>\n",
       "  <tbody>\n",
       "    <tr>\n",
       "      <th>Unnamed: 0</th>\n",
       "      <td>1682</td>\n",
       "      <td>int64</td>\n",
       "      <td>0</td>\n",
       "      <td>0.0</td>\n",
       "    </tr>\n",
       "    <tr>\n",
       "      <th>movie_genres</th>\n",
       "      <td>216</td>\n",
       "      <td>object</td>\n",
       "      <td>0</td>\n",
       "      <td>0.0</td>\n",
       "    </tr>\n",
       "    <tr>\n",
       "      <th>movie_id</th>\n",
       "      <td>1682</td>\n",
       "      <td>object</td>\n",
       "      <td>0</td>\n",
       "      <td>0.0</td>\n",
       "    </tr>\n",
       "    <tr>\n",
       "      <th>movie_title</th>\n",
       "      <td>1664</td>\n",
       "      <td>object</td>\n",
       "      <td>0</td>\n",
       "      <td>0.0</td>\n",
       "    </tr>\n",
       "  </tbody>\n",
       "</table>\n",
       "</div>"
      ],
      "text/plain": [
       "             count data_type missing_count missing%\n",
       "Unnamed: 0    1682     int64             0      0.0\n",
       "movie_genres   216    object             0      0.0\n",
       "movie_id      1682    object             0      0.0\n",
       "movie_title   1664    object             0      0.0"
      ]
     },
     "execution_count": 46,
     "metadata": {},
     "output_type": "execute_result"
    }
   ],
   "source": [
    "#let's have a general view:\n",
    "movies_missing = pd.concat([movies.nunique(), movies.dtypes, movies.isnull().sum(), 100*movies.isnull().mean()], axis=1)\n",
    "movies_missing.columns = [['count', 'data_type', 'missing_count', 'missing%']]\n",
    "movies_missing"
   ]
  },
  {
   "cell_type": "markdown",
   "id": "c06ebf39-7c79-4e6b-afbb-8e73b3070848",
   "metadata": {
    "tags": []
   },
   "source": [
    "### Implementing a Retrieval Model:"
   ]
  },
  {
   "cell_type": "code",
   "execution_count": 47,
   "id": "24e280b1-c98d-48a7-9948-513b11d71813",
   "metadata": {},
   "outputs": [],
   "source": [
    "#let's wrap the **pandas dataframe** into **tf.data.Dataset** object using **tf.data.Dataset.from_tensor_slices** using: tf.data.Dataset.from_tensor_slices\n",
    "ratings = tf.data.Dataset.from_tensor_slices(dict(ratings))\n",
    "movies = tf.data.Dataset.from_tensor_slices(dict(movies))"
   ]
  },
  {
   "cell_type": "code",
   "execution_count": 48,
   "id": "5f24b3e0-a2b8-4a5b-936c-5715fce1cce8",
   "metadata": {},
   "outputs": [
    {
     "name": "stdout",
     "output_type": "stream",
     "text": [
      "{'bucketized_user_age': 45,\n",
      " 'director': b'Milos Forman',\n",
      " 'movie_genres': b'[7]',\n",
      " 'movie_id': b'357',\n",
      " 'movie_title': b\"One Flew Over the Cuckoo's Nest\",\n",
      " 'release_date': 185500800,\n",
      " 'star': b'Jack Nicholson',\n",
      " 'timestamp': 879024327,\n",
      " 'user_gender': True,\n",
      " 'user_id': b'138',\n",
      " 'user_occupation_label': 4,\n",
      " 'user_occupation_text': b'doctor',\n",
      " 'user_rating': 4,\n",
      " 'user_zip_code': b'53211'}\n"
     ]
    }
   ],
   "source": [
    "#The ratings dataset returns a dictionary of movie id, user id, the assigned rating, timestamp, movie information, and user information:\n",
    "#View the data from the ratings dataset:\n",
    "for x in ratings.take(1).as_numpy_iterator():\n",
    "    pprint.pprint(x)"
   ]
  },
  {
   "cell_type": "code",
   "execution_count": 49,
   "id": "7811e73d-27be-4359-a93f-51d5d6e73b4d",
   "metadata": {},
   "outputs": [
    {
     "name": "stdout",
     "output_type": "stream",
     "text": [
      "{'Unnamed: 0': 0,\n",
      " 'movie_genres': b'[4]',\n",
      " 'movie_id': b\"b'1681'\",\n",
      " 'movie_title': b\"b'You So Crazy (1994)'\"}\n"
     ]
    }
   ],
   "source": [
    "#The ratings dataset returns a dictionary of movie id, user id, the assigned rating, timestamp, movie information, and user information:\n",
    "#View the data from the movies dataset:\n",
    "for x in movies.take(1).as_numpy_iterator():\n",
    "    pprint.pprint(x)"
   ]
  },
  {
   "cell_type": "code",
   "execution_count": 50,
   "id": "6d7b8af1-39dd-4b4a-957a-805b418efc60",
   "metadata": {},
   "outputs": [],
   "source": [
    "# Selecting the basic features.\n",
    "ratings = ratings.map(lambda x: {\n",
    "                                \"movie_title\": x[\"movie_title\"],\n",
    "                                \"user_id\": x[\"user_id\"],\n",
    "                                \"user_rating\": x[\"user_rating\"],\n",
    "                                \"timestamp\": x[\"timestamp\"],\n",
    "                                \"bucketized_user_age\": x['bucketized_user_age'],\n",
    "                                \"gender\": tf.dtypes.cast(x[\"user_gender\"], tf.int64),\n",
    "                                \"director\": x[\"director\"],\n",
    "                                \"star\": x[\"star\"],\n",
    "                               })\n",
    "movies = movies.map(lambda x: {\n",
    "                                \"movie_title\": x[\"movie_title\"], \n",
    "                                \n",
    "})"
   ]
  },
  {
   "cell_type": "code",
   "execution_count": 51,
   "id": "f44ab3c1-d795-44ce-9ba5-76b8ec966f70",
   "metadata": {},
   "outputs": [],
   "source": [
    "# let's use a random split, putting 75% of the ratings in the train set, and 25% in the test set:\n",
    "# Assign a seed=42 for consistency of results and reproducibility:\n",
    "seed = 42\n",
    "l = len(ratings)\n",
    "\n",
    "tf.random.set_seed(seed)\n",
    "shuffled = ratings.shuffle(l, seed=seed, reshuffle_each_iteration=False)\n",
    "\n",
    "#Save 80% of the data for training and 20% for testing:\n",
    "train_ = int(0.75 * l)\n",
    "test_ = int(0.25 * l)\n",
    "\n",
    "train = shuffled.take(train_)\n",
    "test = shuffled.skip(train_).take(test_)"
   ]
  },
  {
   "cell_type": "code",
   "execution_count": 52,
   "id": "9fb849ea-857e-4ddf-990d-dd4d3a7e944e",
   "metadata": {},
   "outputs": [],
   "source": [
    "# Randomly shuffling data and splitting between train and test.\n",
    "tf.random.set_seed(42)\n",
    "shuffled = ratings.shuffle(1_000_000, seed=42, reshuffle_each_iteration=False)\n",
    "\n",
    "train = shuffled.take(800_000)\n",
    "test = shuffled.skip(800_000).take(200_000)\n",
    "\n",
    "movie_titles = movies.batch(10_000).map(lambda x: x[\"movie_title\"])\n",
    "user_ids = ratings.batch(1_000_000).map(lambda x: x[\"user_id\"])"
   ]
  },
  {
   "cell_type": "code",
   "execution_count": 53,
   "id": "f3c87035-51b4-474c-ad10-1e8639cb6915",
   "metadata": {},
   "outputs": [
    {
     "data": {
      "text/plain": [
       "array([b'b\"\\'Til There Was You (1997)\"',\n",
       "       b'b\"Amityville 1992: It\\'s About Time (1992)\"',\n",
       "       b'b\"Antonia\\'s Line (1995)\"', b'b\"April Fool\\'s Day (1986)\"',\n",
       "       b'b\"Blood For Dracula (Andy Warhol\\'s Dracula) (1974)\"',\n",
       "       b'b\"Boy\\'s Life 2 (1997)\"', b'b\"Bram Stoker\\'s Dracula (1992)\"',\n",
       "       b'b\"Breakfast at Tiffany\\'s (1961)\"',\n",
       "       b'b\"Brother\\'s Kiss, A (1997)\"',\n",
       "       b'b\"C\\'est arriv\\\\xc3\\\\xa9 pr\\\\xc3\\\\xa8s de chez vous (1992)\"'],\n",
       "      dtype=object)"
      ]
     },
     "execution_count": 53,
     "metadata": {},
     "output_type": "execute_result"
    }
   ],
   "source": [
    "unique_movie_titles = np.unique(np.concatenate(list(movie_titles)))\n",
    "unique_user_ids = np.unique(np.concatenate(list(user_ids)))\n",
    "unique_movie_titles[:10]"
   ]
  },
  {
   "cell_type": "code",
   "execution_count": 54,
   "id": "44196c6e-1eee-438d-8de6-16f089204031",
   "metadata": {},
   "outputs": [],
   "source": [
    "timestamps = np.concatenate(list(ratings.map(lambda x: x[\"timestamp\"]).batch(100)))\n",
    "\n",
    "max_timestamp = timestamps.max()\n",
    "min_timestamp = timestamps.min()\n",
    "\n",
    "timestamp_buckets = np.linspace(\n",
    "    min_timestamp, max_timestamp, num=1000,\n",
    ")"
   ]
  },
  {
   "cell_type": "code",
   "execution_count": 55,
   "id": "c1761ecf-ab03-4dcc-ba00-d63d137c95d6",
   "metadata": {},
   "outputs": [],
   "source": [
    "user_age = ratings.batch(1_000_000).map(lambda x: x[\"bucketized_user_age\"])\n",
    "unique_user_age = np.unique(np.concatenate(list(user_age)))"
   ]
  },
  {
   "cell_type": "code",
   "execution_count": 56,
   "id": "b646ae65-b401-45c5-81a6-e195b66c9b83",
   "metadata": {},
   "outputs": [],
   "source": [
    "max_age = unique_user_age.max()\n",
    "min_age = unique_user_age.min()\n",
    "\n",
    "age_buckets = np.linspace(\n",
    "                         min_age, \n",
    "                         max_age, \n",
    "                         num=7,\n",
    "                         )"
   ]
  },
  {
   "cell_type": "code",
   "execution_count": 57,
   "id": "8a643a42-74e6-4e47-92af-b066520276c4",
   "metadata": {},
   "outputs": [
    {
     "data": {
      "text/plain": [
       "array([ 1, 10, 19, 28, 37, 46, 56], dtype=int64)"
      ]
     },
     "execution_count": 57,
     "metadata": {},
     "output_type": "execute_result"
    }
   ],
   "source": [
    "age_buckets = age_buckets.astype('int64')\n",
    "age_buckets"
   ]
  },
  {
   "cell_type": "code",
   "execution_count": 58,
   "id": "e594f777-6cde-4328-9da2-b6216e0e9c8a",
   "metadata": {},
   "outputs": [
    {
     "data": {
      "text/plain": [
       "array([0, 1], dtype=int64)"
      ]
     },
     "execution_count": 58,
     "metadata": {},
     "output_type": "execute_result"
    }
   ],
   "source": [
    "user_gender = ratings.batch(1_000_000).map(lambda x: x['gender'] )\n",
    "unique_user_gender = np.unique(np.concatenate(list(user_gender)))\n",
    "unique_user_gender"
   ]
  },
  {
   "cell_type": "markdown",
   "id": "f22ab28c-1cab-4076-bc78-eeb14579f990",
   "metadata": {},
   "source": [
    "####  A Multi-Task Model"
   ]
  },
  {
   "cell_type": "markdown",
   "id": "be08fdd7-cb53-4d19-8634-1cef11e23fa0",
   "metadata": {},
   "source": [
    "There are two critical parts to multi-task recommenders:\n",
    "\n",
    "- They optimize for two or more objectives, and so have two or more losses.\n",
    "- They share variables between the tasks, allowing for transfer learning.\n",
    "\n",
    "Now, let's define our models as before, but instead of having a single task, we will have two tasks: one that predicts ratings, and one that predicts movie watches"
   ]
  },
  {
   "cell_type": "code",
   "execution_count": 59,
   "id": "75c78543-4724-4888-92e5-3b34701f9dff",
   "metadata": {},
   "outputs": [],
   "source": [
    "embedding_dimension = 32\n",
    "\n",
    "user_model = tf.keras.Sequential([\n",
    "  tf.keras.layers.experimental.preprocessing.StringLookup(\n",
    "      vocabulary=unique_user_ids, mask_token=None),\n",
    "  # We add 1 to account for the unknown token.\n",
    "  tf.keras.layers.Embedding(len(unique_user_ids) + 2, embedding_dimension)\n",
    "])\n",
    "\n",
    "movie_model = tf.keras.Sequential([\n",
    "  tf.keras.layers.experimental.preprocessing.StringLookup(\n",
    "      vocabulary=unique_movie_titles, mask_token=None),\n",
    "  tf.keras.layers.Embedding(len(unique_movie_titles) + 2, embedding_dimension)\n",
    "])"
   ]
  },
  {
   "cell_type": "markdown",
   "id": "efbc2e77-547d-4634-92bc-1ead06660b1a",
   "metadata": {},
   "source": [
    "**However, now we will have two tasks. The first is the rating task:**"
   ]
  },
  {
   "cell_type": "code",
   "execution_count": 60,
   "id": "b7b5d4c6-8e74-4204-968f-f889a03a932d",
   "metadata": {},
   "outputs": [
    {
     "data": {
      "text/plain": [
       "<tensorflow_recommenders.tasks.ranking.Ranking at 0x1fb0a6ab2e0>"
      ]
     },
     "execution_count": 60,
     "metadata": {},
     "output_type": "execute_result"
    }
   ],
   "source": [
    "tfrs.tasks.Ranking(\n",
    "    loss=tf.keras.losses.MeanSquaredError(),\n",
    "    metrics=[tf.keras.metrics.RootMeanSquaredError()],\n",
    ")"
   ]
  },
  {
   "cell_type": "markdown",
   "id": "62c1f2d4-1f6f-4798-9efe-a8f8952fe4be",
   "metadata": {},
   "source": [
    "**Its goal is to predict the ratings as accurately as possible.**\n",
    "\n",
    "**The second is the retrieval task:**"
   ]
  },
  {
   "cell_type": "code",
   "execution_count": 61,
   "id": "337a889e-8e49-419e-97f7-009869407c05",
   "metadata": {},
   "outputs": [
    {
     "data": {
      "text/plain": [
       "<tensorflow_recommenders.tasks.retrieval.Retrieval at 0x1fb7f13df70>"
      ]
     },
     "execution_count": 61,
     "metadata": {},
     "output_type": "execute_result"
    }
   ],
   "source": [
    "tfrs.tasks.Retrieval(\n",
    "    metrics=tfrs.metrics.FactorizedTopK(\n",
    "        candidates=movies.batch(128)\n",
    "    )\n",
    ")"
   ]
  },
  {
   "cell_type": "markdown",
   "id": "26efc33a-bcfa-45e4-8bf4-e20061a1d9ae",
   "metadata": {},
   "source": [
    "As before, this task's goal is to predict which movies the user will or will not watch.\n",
    "\n",
    "Those folowwing classes were re-configured to accomodate the new embedded design due to new features, having deeper neural networks and adding regularization to help overfitting:\n",
    "\n",
    "- class UserModel\n",
    "- class QueryModel\n",
    "- class MovieModel\n",
    "- class MovieModel\n",
    "- class CandidateModel\n",
    "- class MovielensModel"
   ]
  },
  {
   "cell_type": "code",
   "execution_count": 62,
   "id": "64626113-fb07-4b29-98ca-560a22a0de5a",
   "metadata": {},
   "outputs": [],
   "source": [
    "class UserModel(tf.keras.Model):\n",
    "    def __init__(self):\n",
    "        super().__init__()\n",
    "\n",
    "        embedding_dimension = 32\n",
    "\n",
    "        self.user_embedding = tf.keras.Sequential([\n",
    "            tf.keras.layers.experimental.preprocessing.StringLookup(\n",
    "                vocabulary=unique_user_ids, mask_token=None),\n",
    "            tf.keras.layers.Embedding(len(unique_user_ids) + 1, embedding_dimension),\n",
    "\n",
    "        ])\n",
    "        self.timestamp_embedding = tf.keras.Sequential([\n",
    "            tf.keras.layers.experimental.preprocessing.Discretization(timestamp_buckets.tolist()),\n",
    "            tf.keras.layers.Embedding(len(timestamp_buckets) + 1, embedding_dimension),\n",
    "\n",
    "        ])\n",
    "        self.normalized_timestamp = tf.keras.layers.experimental.preprocessing.Normalization()\n",
    "\n",
    "        self.normalized_timestamp.adapt(timestamps)\n",
    "\n",
    "      #  self.age_embedding = tf.keras.Sequential([\n",
    "       #     tf.keras.layers.experimental.preprocessing.Discretization(age_buckets.tolist()),\n",
    "        #    tf.keras.layers.Embedding(len(age_buckets) + 1, embedding_dimension//2),\n",
    "      #  ])\n",
    "\n",
    "        #self.normalized_age = tf.keras.layers.experimental.preprocessing.Normalization()\n",
    "\n",
    "       # self.normalized_age.adapt(unique_user_age)\n",
    "\n",
    "        self.gender_embedding = tf.keras.layers.experimental.preprocessing.CategoryEncoding(\n",
    "            max_tokens=len(unique_user_gender) + 1)\n",
    "\n",
    "\n",
    "    def call(self, inputs):\n",
    "        # Take the input dictionary, pass it through each input layer,\n",
    "        # and concatenate the result.\n",
    "        return tf.concat([\n",
    "            self.user_embedding(inputs[\"user_id\"]),\n",
    "            self.timestamp_embedding(inputs[\"timestamp\"]),\n",
    "            self.normalized_timestamp(inputs[\"timestamp\"]),\n",
    "            #self.age_embedding(inputs[\"user_age\"]),\n",
    "            #self.normalized_age(inputs[\"user_age\"]),\n",
    "            self.gender_embedding(inputs[\"gender\"])\n",
    "        ], axis=1)"
   ]
  },
  {
   "cell_type": "code",
   "execution_count": 63,
   "id": "59b4e7b8-4918-4273-8217-e0ab35a2cb25",
   "metadata": {},
   "outputs": [],
   "source": [
    "class QueryModel(tf.keras.Model):\n",
    "    \"\"\"Model for encoding user queries.\"\"\"\n",
    "\n",
    "    def __init__(self, layer_sizes):\n",
    "        \"\"\"Model for encoding user queries.\n",
    "\n",
    "        Args:\n",
    "          layer_sizes:\n",
    "            A list of integers where the i-th entry represents the number of units\n",
    "            the i-th layer contains.\n",
    "        \"\"\"\n",
    "        super().__init__()\n",
    "\n",
    "        # We first use the user model for generating embeddings.\n",
    "        self.embedding_model = UserModel()\n",
    "\n",
    "        # Then construct the layers.\n",
    "        self.dense_layers = tf.keras.Sequential()\n",
    "\n",
    "        # Use the ReLU activation for all but the last layer.\n",
    "        for layer_size in layer_sizes[:-1]:\n",
    "            self.dense_layers.add(tf.keras.layers.Dense(layer_size, activation=\"relu\"))\n",
    "\n",
    "        # No activation for the last layer.\n",
    "        for layer_size in layer_sizes[-1:]:\n",
    "            self.dense_layers.add(tf.keras.layers.Dense(layer_size))\n",
    "            self.dense_layers.add(tf.keras.layers.Dropout(0.2))\n",
    "    \n",
    "    def call(self, inputs):\n",
    "        feature_embedding = self.embedding_model(inputs)\n",
    "        return self.dense_layers(feature_embedding)"
   ]
  },
  {
   "cell_type": "code",
   "execution_count": 64,
   "id": "330fcaa2-46b9-4c72-8818-4d21ae06577d",
   "metadata": {},
   "outputs": [],
   "source": [
    "class MovieModel(tf.keras.Model):\n",
    "    def __init__(self):\n",
    "        super().__init__()\n",
    "\n",
    "        max_tokens = 10_000\n",
    "        embedding_dimension = 32\n",
    "\n",
    "        self.title_embedding = tf.keras.Sequential([\n",
    "          tf.keras.layers.experimental.preprocessing.StringLookup(\n",
    "              vocabulary=unique_movie_titles,mask_token=None),\n",
    "          tf.keras.layers.Embedding(len(unique_movie_titles) + 1, embedding_dimension),\n",
    "\n",
    "        ])\n",
    "\n",
    "        self.title_vectorizer = tf.keras.layers.experimental.preprocessing.TextVectorization(\n",
    "            max_tokens=max_tokens)\n",
    "\n",
    "        self.title_text_embedding = tf.keras.Sequential([\n",
    "          self.title_vectorizer,\n",
    "          tf.keras.layers.Embedding(max_tokens, embedding_dimension, mask_zero=True),\n",
    "          tf.keras.layers.GlobalAveragePooling1D(),\n",
    "        ])\n",
    "\n",
    "        self.title_vectorizer.adapt(movies.map(lambda x: x['movie_title']))\n",
    "\n",
    "    def call(self, titles):\n",
    "        return tf.concat([\n",
    "            self.title_embedding(titles),\n",
    "            self.title_text_embedding(titles),\n",
    "        ], axis=1)"
   ]
  },
  {
   "cell_type": "code",
   "execution_count": 65,
   "id": "3d25a5a9-3275-4499-83aa-b2d3a0220782",
   "metadata": {},
   "outputs": [],
   "source": [
    "class CandidateModel(tf.keras.Model):\n",
    "    \"\"\"Model for encoding movies.\"\"\"\n",
    "\n",
    "    def __init__(self, layer_sizes):\n",
    "        \"\"\"Model for encoding movies.\n",
    "\n",
    "        Args:\n",
    "          layer_sizes:\n",
    "            A list of integers where the i-th entry represents the number of units\n",
    "            the i-th layer contains.\n",
    "        \"\"\"\n",
    "        super().__init__()\n",
    "\n",
    "        self.embedding_model = MovieModel()\n",
    "\n",
    "        # Then construct the layers.\n",
    "        self.dense_layers = tf.keras.Sequential()\n",
    "\n",
    "        # Use the ReLU activation for all but the last layer.\n",
    "        for layer_size in layer_sizes[:-1]:\n",
    "            self.dense_layers.add(tf.keras.layers.Dense(layer_size, activation=\"relu\"))\n",
    "            self.dense_layers.add(tf.keras.layers.Dropout(0.2))\n",
    "\n",
    "        # No activation for the last layer.\n",
    "        for layer_size in layer_sizes[-1:]:\n",
    "            self.dense_layers.add(tf.keras.layers.Dense(layer_size))\n",
    "    \n",
    "    def call(self, inputs):\n",
    "            feature_embedding = self.embedding_model(inputs)\n",
    "            return self.dense_layers(feature_embedding)"
   ]
  },
  {
   "cell_type": "code",
   "execution_count": 66,
   "id": "66edb7c6-fcdc-430b-a010-bc01ac1f7275",
   "metadata": {},
   "outputs": [],
   "source": [
    "class MovielensModel(tfrs.models.Model):\n",
    "    def __init__(self, rating_weight: float, retrieval_weight: float) -> None:\n",
    "        # We take the loss weights in the constructor: this allows us to instantiate\n",
    "        # several model objects with different loss weights.\n",
    "\n",
    "        super().__init__()\n",
    "\n",
    "        layer_sizes = [64, 32, 32, 32, 32]\n",
    "\n",
    "        # User and movie models.\n",
    "        self.movie_model: tf.keras.layers.Layer = CandidateModel(layer_sizes)\n",
    "\n",
    "        self.user_model: tf.keras.layers.Layer = QueryModel(layer_sizes)\n",
    "\n",
    "        # A small model to take in user and movie embeddings and predict ratings.\n",
    "        # We can make this as complicated as we want as long as we output a scalar\n",
    "        # as our prediction.\n",
    "        self.rating_model = tf.keras.Sequential([\n",
    "            tf.keras.layers.Dense(256, activation=\"relu\"),\n",
    "            tf.keras.layers.Dropout(0.2),\n",
    "            tf.keras.layers.Dense(128, activation=\"relu\"),\n",
    "            tf.keras.layers.Dropout(0.2),\n",
    "            tf.keras.layers.Dense(64, activation=\"relu\"),\n",
    "            tf.keras.layers.Dropout(0.2),\n",
    "            tf.keras.layers.Dense(64, activation=\"relu\"),\n",
    "            tf.keras.layers.Dropout(0.2),\n",
    "            tf.keras.layers.Dense(32, activation=\"relu\"),\n",
    "            tf.keras.layers.Dropout(0.2),\n",
    "            tf.keras.layers.Dense(32, activation=\"relu\"),\n",
    "            tf.keras.layers.Dense(1),\n",
    "        ])\n",
    "\n",
    "        # The tasks.\n",
    "        self.rating_task: tf.keras.layers.Layer = tfrs.tasks.Ranking(\n",
    "            loss=tf.keras.losses.MeanSquaredError(),\n",
    "            metrics=[tf.keras.metrics.RootMeanSquaredError()],\n",
    "        )\n",
    "        self.retrieval_task: tf.keras.layers.Layer = tfrs.tasks.Retrieval(\n",
    "            metrics=tfrs.metrics.FactorizedTopK(\n",
    "                candidates=movies.batch(128).map(lambda x: x['movie_title']).map(self.movie_model)\n",
    "            )\n",
    "        )\n",
    "\n",
    "        # The loss weights.\n",
    "        self.rating_weight = rating_weight\n",
    "        self.retrieval_weight = retrieval_weight\n",
    "\n",
    "    def call(self, features: Dict[Text, tf.Tensor]) -> tf.Tensor:\n",
    "        # We pick out the user features and pass them into the user model.\n",
    "        user_embeddings = self.user_model({\n",
    "            \"user_id\": features[\"user_id\"],\n",
    "            \"timestamp\": features[\"timestamp\"],\n",
    "           # \"user_age\": features[\"user_age\"],\n",
    "            \"gender\": features[\"gender\"],\n",
    "        })\n",
    "        # And pick out the movie features and pass them into the movie model.\n",
    "        movie_embeddings = self.movie_model(features[\"movie_title\"])\n",
    "\n",
    "        return (\n",
    "            user_embeddings,\n",
    "            movie_embeddings,\n",
    "            # We apply the multi-layered rating model to a concatentation of\n",
    "            # user and movie embeddings.\n",
    "            self.rating_model(\n",
    "                tf.concat([user_embeddings, movie_embeddings], axis=1)\n",
    "            ),\n",
    "        )\n",
    "\n",
    "    def compute_loss(self, features: Dict[Text, tf.Tensor], training=False) -> tf.Tensor:\n",
    "\n",
    "        user_embeddings, movie_embeddings, rating_predictions = self(features)\n",
    "\n",
    "\n",
    "        # We compute the loss for each task.\n",
    "        rating_loss = self.rating_task(\n",
    "            labels=features[\"user_rating\"],\n",
    "            predictions=rating_predictions,\n",
    "        )\n",
    "        retrieval_loss = self.retrieval_task(user_embeddings, movie_embeddings)\n",
    "\n",
    "        # And combine them using the loss weights.\n",
    "        return (self.rating_weight * rating_loss\n",
    "                + self.retrieval_weight * retrieval_loss)"
   ]
  },
  {
   "cell_type": "markdown",
   "id": "58d2400e-edcf-4a5d-83d3-4f2ec7ffe8fd",
   "metadata": {},
   "source": [
    "### Joint model"
   ]
  },
  {
   "cell_type": "markdown",
   "id": "90c6676f-2b4d-48e5-b0ca-67aa772425be",
   "metadata": {},
   "source": [
    "Let's now train a model that assigns positive weights to both tasks."
   ]
  },
  {
   "cell_type": "code",
   "execution_count": 71,
   "id": "b2f19f0b-6ee6-45f2-b38b-ef2279a36fd7",
   "metadata": {},
   "outputs": [
    {
     "data": {
      "text/plain": [
       "<tensorflow.python.keras.engine.sequential.Sequential at 0x1fb0a6ad220>"
      ]
     },
     "execution_count": 71,
     "metadata": {},
     "output_type": "execute_result"
    }
   ],
   "source": [
    "user_model"
   ]
  },
  {
   "cell_type": "code",
   "execution_count": 72,
   "id": "61dd7dd1-0537-4736-ac01-92d235bb2f7b",
   "metadata": {},
   "outputs": [
    {
     "name": "stdout",
     "output_type": "stream",
     "text": [
      "WARNING:tensorflow:max_tokens is deprecated, please use num_tokens instead.\n"
     ]
    }
   ],
   "source": [
    "model = MovielensModel(rating_weight=1.0, retrieval_weight=1.0)\n",
    "model.compile(optimizer=tf.keras.optimizers.Adagrad(0.1))"
   ]
  },
  {
   "cell_type": "code",
   "execution_count": 73,
   "id": "6ba53da8-1cfa-4373-ae1b-b9a14af208bb",
   "metadata": {},
   "outputs": [],
   "source": [
    "cached_train = train.shuffle(1_000_000).batch(8192).cache()\n",
    "cached_test = test.batch(2048).cache()"
   ]
  },
  {
   "cell_type": "code",
   "execution_count": 74,
   "id": "9350d74f-3078-4d16-84f8-3dd4dd025ccc",
   "metadata": {},
   "outputs": [
    {
     "name": "stdout",
     "output_type": "stream",
     "text": [
      "Epoch 1/16\n",
      "WARNING:tensorflow:Using a while_loop for converting BoostedTreesBucketize\n",
      "WARNING:tensorflow:Using a while_loop for converting BoostedTreesBucketize\n",
      "WARNING:tensorflow:Using a while_loop for converting BoostedTreesBucketize\n",
      "11/11 [==============================] - 11s 776ms/step - root_mean_squared_error: 3.1389 - factorized_top_k/top_1_categorical_accuracy: 0.3231 - factorized_top_k/top_5_categorical_accuracy: 0.3439 - factorized_top_k/top_10_categorical_accuracy: 0.3530 - factorized_top_k/top_50_categorical_accuracy: 0.3783 - factorized_top_k/top_100_categorical_accuracy: 0.3943 - loss: 71582.0553 - regularization_loss: 0.0000e+00 - total_loss: 71582.0553\n",
      "Epoch 2/16\n",
      "11/11 [==============================] - 9s 768ms/step - root_mean_squared_error: 2.7269 - factorized_top_k/top_1_categorical_accuracy: 0.7092 - factorized_top_k/top_5_categorical_accuracy: 0.7110 - factorized_top_k/top_10_categorical_accuracy: 0.7113 - factorized_top_k/top_50_categorical_accuracy: 0.7124 - factorized_top_k/top_100_categorical_accuracy: 0.7137 - loss: 71407.3639 - regularization_loss: 0.0000e+00 - total_loss: 71407.3639\n",
      "Epoch 3/16\n",
      "11/11 [==============================] - 8s 757ms/step - root_mean_squared_error: 1.8248 - factorized_top_k/top_1_categorical_accuracy: 6.5427e-04 - factorized_top_k/top_5_categorical_accuracy: 0.0012 - factorized_top_k/top_10_categorical_accuracy: 0.0015 - factorized_top_k/top_50_categorical_accuracy: 0.0025 - factorized_top_k/top_100_categorical_accuracy: 0.0033 - loss: 71402.3301 - regularization_loss: 0.0000e+00 - total_loss: 71402.3301      \n",
      "Epoch 4/16\n",
      "11/11 [==============================] - 9s 807ms/step - root_mean_squared_error: 1.1122 - factorized_top_k/top_1_categorical_accuracy: 0.1728 - factorized_top_k/top_5_categorical_accuracy: 0.2033 - factorized_top_k/top_10_categorical_accuracy: 0.2155 - factorized_top_k/top_50_categorical_accuracy: 0.2501 - factorized_top_k/top_100_categorical_accuracy: 0.2710 - loss: 71403.2298 - regularization_loss: 0.0000e+00 - total_loss: 71403.2298\n",
      "Epoch 5/16\n",
      "11/11 [==============================] - 10s 871ms/step - root_mean_squared_error: 1.1223 - factorized_top_k/top_1_categorical_accuracy: 0.5727 - factorized_top_k/top_5_categorical_accuracy: 0.5799 - factorized_top_k/top_10_categorical_accuracy: 0.5837 - factorized_top_k/top_50_categorical_accuracy: 0.5862 - factorized_top_k/top_100_categorical_accuracy: 0.5871 - loss: 71427.5566 - regularization_loss: 0.0000e+00 - total_loss: 71427.5566\n",
      "Epoch 6/16\n",
      "11/11 [==============================] - 9s 810ms/step - root_mean_squared_error: 1.1110 - factorized_top_k/top_1_categorical_accuracy: 0.0121 - factorized_top_k/top_5_categorical_accuracy: 0.0129 - factorized_top_k/top_10_categorical_accuracy: 0.0132 - factorized_top_k/top_50_categorical_accuracy: 0.0140 - factorized_top_k/top_100_categorical_accuracy: 0.0146 - loss: 71389.8021 - regularization_loss: 0.0000e+00 - total_loss: 71389.8021\n",
      "Epoch 7/16\n",
      "11/11 [==============================] - 9s 844ms/step - root_mean_squared_error: 1.1134 - factorized_top_k/top_1_categorical_accuracy: 0.7716 - factorized_top_k/top_5_categorical_accuracy: 0.7968 - factorized_top_k/top_10_categorical_accuracy: 0.8017 - factorized_top_k/top_50_categorical_accuracy: 0.8104 - factorized_top_k/top_100_categorical_accuracy: 0.8156 - loss: 71343.1048 - regularization_loss: 0.0000e+00 - total_loss: 71343.1048\n",
      "Epoch 8/16\n",
      "11/11 [==============================] - 9s 783ms/step - root_mean_squared_error: 1.1314 - factorized_top_k/top_1_categorical_accuracy: 0.2266 - factorized_top_k/top_5_categorical_accuracy: 0.2278 - factorized_top_k/top_10_categorical_accuracy: 0.2281 - factorized_top_k/top_50_categorical_accuracy: 0.2287 - factorized_top_k/top_100_categorical_accuracy: 0.2292 - loss: 71395.1842 - regularization_loss: 0.0000e+00 - total_loss: 71395.1842\n",
      "Epoch 9/16\n",
      "11/11 [==============================] - 9s 827ms/step - root_mean_squared_error: 1.1108 - factorized_top_k/top_1_categorical_accuracy: 0.0000e+00 - factorized_top_k/top_5_categorical_accuracy: 0.0000e+00 - factorized_top_k/top_10_categorical_accuracy: 0.0000e+00 - factorized_top_k/top_50_categorical_accuracy: 0.0000e+00 - factorized_top_k/top_100_categorical_accuracy: 0.0000e+00 - loss: 71391.9336 - regularization_loss: 0.0000e+00 - total_loss: 71391.9336\n",
      "Epoch 10/16\n",
      "11/11 [==============================] - 9s 825ms/step - root_mean_squared_error: 1.1217 - factorized_top_k/top_1_categorical_accuracy: 0.2531 - factorized_top_k/top_5_categorical_accuracy: 0.2629 - factorized_top_k/top_10_categorical_accuracy: 0.2673 - factorized_top_k/top_50_categorical_accuracy: 0.2815 - factorized_top_k/top_100_categorical_accuracy: 0.2883 - loss: 71164.9557 - regularization_loss: 0.0000e+00 - total_loss: 71164.9557\n",
      "Epoch 11/16\n",
      "11/11 [==============================] - 9s 851ms/step - root_mean_squared_error: 1.1121 - factorized_top_k/top_1_categorical_accuracy: 0.6742 - factorized_top_k/top_5_categorical_accuracy: 0.6867 - factorized_top_k/top_10_categorical_accuracy: 0.6952 - factorized_top_k/top_50_categorical_accuracy: 0.7142 - factorized_top_k/top_100_categorical_accuracy: 0.7263 - loss: 70681.1647 - regularization_loss: 0.0000e+00 - total_loss: 70681.1647\n",
      "Epoch 12/16\n",
      "11/11 [==============================] - 9s 858ms/step - root_mean_squared_error: 1.1099 - factorized_top_k/top_1_categorical_accuracy: 0.8856 - factorized_top_k/top_5_categorical_accuracy: 0.8906 - factorized_top_k/top_10_categorical_accuracy: 0.8934 - factorized_top_k/top_50_categorical_accuracy: 0.9031 - factorized_top_k/top_100_categorical_accuracy: 0.9083 - loss: 70364.7591 - regularization_loss: 0.0000e+00 - total_loss: 70364.7591\n",
      "Epoch 13/16\n",
      "11/11 [==============================] - 9s 811ms/step - root_mean_squared_error: 1.1105 - factorized_top_k/top_1_categorical_accuracy: 0.9768 - factorized_top_k/top_5_categorical_accuracy: 0.9781 - factorized_top_k/top_10_categorical_accuracy: 0.9790 - factorized_top_k/top_50_categorical_accuracy: 0.9820 - factorized_top_k/top_100_categorical_accuracy: 0.9832 - loss: 70415.0273 - regularization_loss: 0.0000e+00 - total_loss: 70415.0273\n",
      "Epoch 14/16\n",
      "11/11 [==============================] - 10s 894ms/step - root_mean_squared_error: 1.1100 - factorized_top_k/top_1_categorical_accuracy: 0.9139 - factorized_top_k/top_5_categorical_accuracy: 0.9193 - factorized_top_k/top_10_categorical_accuracy: 0.9236 - factorized_top_k/top_50_categorical_accuracy: 0.9332 - factorized_top_k/top_100_categorical_accuracy: 0.9364 - loss: 70248.3496 - regularization_loss: 0.0000e+00 - total_loss: 70248.3496\n",
      "Epoch 15/16\n",
      "11/11 [==============================] - 9s 799ms/step - root_mean_squared_error: 1.1097 - factorized_top_k/top_1_categorical_accuracy: 0.9562 - factorized_top_k/top_5_categorical_accuracy: 0.9604 - factorized_top_k/top_10_categorical_accuracy: 0.9617 - factorized_top_k/top_50_categorical_accuracy: 0.9647 - factorized_top_k/top_100_categorical_accuracy: 0.9659 - loss: 70169.2474 - regularization_loss: 0.0000e+00 - total_loss: 70169.2474\n",
      "Epoch 16/16\n",
      "11/11 [==============================] - 9s 826ms/step - root_mean_squared_error: 1.1095 - factorized_top_k/top_1_categorical_accuracy: 0.9501 - factorized_top_k/top_5_categorical_accuracy: 0.9529 - factorized_top_k/top_10_categorical_accuracy: 0.9544 - factorized_top_k/top_50_categorical_accuracy: 0.9571 - factorized_top_k/top_100_categorical_accuracy: 0.9588 - loss: 70113.7591 - regularization_loss: 0.0000e+00 - total_loss: 70113.7591\n"
     ]
    }
   ],
   "source": [
    "Final = model.fit(cached_train, validation_data = cached_test, epochs=16)"
   ]
  },
  {
   "cell_type": "markdown",
   "id": "b6207ed6-cbd1-45a5-a36e-771f3aeffb11",
   "metadata": {},
   "source": [
    "### Summary of all models' metrics"
   ]
  },
  {
   "cell_type": "markdown",
   "id": "60ca3caf-7159-4a76-bc95-66ff50a1da08",
   "metadata": {},
   "source": [
    "| Models | Retrieval top-10 accuracy | Retrieval top-100 accuracy | Ranking RMSE |\n",
    "| --- | --- | --- | --- |\n",
    "| Model: Rating-specialized model | 0.1153 | 0.236 | 1.071 |\n",
    "| Model: Retrieval-specialized model | 0.0013 | 0.058 | 3.691 |\n",
    "| Model: Joint model: Baseline | 0.1474 | 0.285 | 1.087 |\n",
    "| Model: Tuned Joint model (Best Model for teh Recommendation) | 0.9544 | 0.96 | 1.11 |"
   ]
  },
  {
   "cell_type": "code",
   "execution_count": 83,
   "id": "6eacfa8d-dbba-4616-be67-0e1822b5e083",
   "metadata": {},
   "outputs": [
    {
     "data": {
      "text/plain": [
       "<__main__.QueryModel at 0x1fb0a4539d0>"
      ]
     },
     "execution_count": 83,
     "metadata": {},
     "output_type": "execute_result"
    },
    {
     "data": {
      "text/plain": [
       "<__main__.CandidateModel at 0x1fb0a3c2760>"
      ]
     },
     "execution_count": 83,
     "metadata": {},
     "output_type": "execute_result"
    },
    {
     "data": {
      "text/plain": [
       "<tf.Tensor: shape=(1,), dtype=string, numpy=array([b'0'], dtype=object)>"
      ]
     },
     "execution_count": 83,
     "metadata": {},
     "output_type": "execute_result"
    }
   ],
   "source": [
    "model.user_model\n",
    "model.movie_model\n",
    "tf.constant([\"0\"])"
   ]
  },
  {
   "cell_type": "code",
   "execution_count": 86,
   "id": "33dd89ff-7c1d-42bb-a487-57b2f2842d61",
   "metadata": {},
   "outputs": [
    {
     "data": {
      "text/plain": [
       "tensorflow.python.keras.engine.sequential.Sequential"
      ]
     },
     "execution_count": 86,
     "metadata": {},
     "output_type": "execute_result"
    }
   ],
   "source": [
    "type(movie_model)"
   ]
  },
  {
   "cell_type": "code",
   "execution_count": 84,
   "id": "c640edff-398e-46c8-9801-33da66cac6bb",
   "metadata": {},
   "outputs": [
    {
     "name": "stdout",
     "output_type": "stream",
     "text": [
      "WARNING:tensorflow:Layers in a Sequential model should only have a single input tensor, but we receive a <class 'dict'> input: {'movie_title': <tf.Tensor 'args_0:0' shape=(None,) dtype=string>}\n",
      "Consider rewriting this model with the Functional API.\n",
      "WARNING:tensorflow:Layers in a Sequential model should only have a single input tensor, but we receive a <class 'dict'> input: {'movie_title': <tf.Tensor 'args_0:0' shape=(None,) dtype=string>}\n",
      "Consider rewriting this model with the Functional API.\n"
     ]
    },
    {
     "ename": "ValueError",
     "evalue": "Attempt to convert a value (<MapDataset shapes: (None, 32), types: tf.float32>) with an unsupported type (<class 'tensorflow.python.data.ops.dataset_ops.MapDataset'>) to a Tensor.",
     "output_type": "error",
     "traceback": [
      "\u001b[1;31m---------------------------------------------------------------------------\u001b[0m",
      "\u001b[1;31mValueError\u001b[0m                                Traceback (most recent call last)",
      "\u001b[1;32mC:\\Users\\MOHAME~1.ZIA\\AppData\\Local\\Temp/ipykernel_12080/1511721995.py\u001b[0m in \u001b[0;36m<module>\u001b[1;34m\u001b[0m\n\u001b[0;32m      5\u001b[0m \u001b[1;33m\u001b[0m\u001b[0m\n\u001b[0;32m      6\u001b[0m \u001b[1;31m# recommends movies out of the entire movies dataset.\u001b[0m\u001b[1;33m\u001b[0m\u001b[1;33m\u001b[0m\u001b[0m\n\u001b[1;32m----> 7\u001b[1;33m \u001b[0mindex\u001b[0m\u001b[1;33m.\u001b[0m\u001b[0mindex\u001b[0m\u001b[1;33m(\u001b[0m\u001b[0mmovies\u001b[0m\u001b[1;33m.\u001b[0m\u001b[0mbatch\u001b[0m\u001b[1;33m(\u001b[0m\u001b[1;36m100\u001b[0m\u001b[1;33m)\u001b[0m\u001b[1;33m.\u001b[0m\u001b[0mmap\u001b[0m\u001b[1;33m(\u001b[0m\u001b[0mmodel\u001b[0m\u001b[1;33m.\u001b[0m\u001b[0mmovie_model\u001b[0m\u001b[1;33m)\u001b[0m\u001b[1;33m,\u001b[0m \u001b[0mmovies\u001b[0m\u001b[1;33m)\u001b[0m\u001b[1;33m\u001b[0m\u001b[1;33m\u001b[0m\u001b[0m\n\u001b[0m\u001b[0;32m      8\u001b[0m \u001b[1;33m\u001b[0m\u001b[0m\n\u001b[0;32m      9\u001b[0m \u001b[1;31m# Get recommendations.\u001b[0m\u001b[1;33m\u001b[0m\u001b[1;33m\u001b[0m\u001b[0m\n",
      "\u001b[1;32m~\\anaconda_new\\lib\\site-packages\\tensorflow_recommenders\\layers\\factorized_top_k.py\u001b[0m in \u001b[0;36mindex\u001b[1;34m(self, candidates, identifiers)\u001b[0m\n\u001b[0;32m    517\u001b[0m       \u001b[0midentifiers\u001b[0m \u001b[1;33m=\u001b[0m \u001b[0mtf\u001b[0m\u001b[1;33m.\u001b[0m\u001b[0mrange\u001b[0m\u001b[1;33m(\u001b[0m\u001b[0mcandidates\u001b[0m\u001b[1;33m.\u001b[0m\u001b[0mshape\u001b[0m\u001b[1;33m[\u001b[0m\u001b[1;36m0\u001b[0m\u001b[1;33m]\u001b[0m\u001b[1;33m)\u001b[0m\u001b[1;33m\u001b[0m\u001b[1;33m\u001b[0m\u001b[0m\n\u001b[0;32m    518\u001b[0m \u001b[1;33m\u001b[0m\u001b[0m\n\u001b[1;32m--> 519\u001b[1;33m     \u001b[1;32mif\u001b[0m \u001b[0mtf\u001b[0m\u001b[1;33m.\u001b[0m\u001b[0mrank\u001b[0m\u001b[1;33m(\u001b[0m\u001b[0mcandidates\u001b[0m\u001b[1;33m)\u001b[0m \u001b[1;33m!=\u001b[0m \u001b[1;36m2\u001b[0m\u001b[1;33m:\u001b[0m\u001b[1;33m\u001b[0m\u001b[1;33m\u001b[0m\u001b[0m\n\u001b[0m\u001b[0;32m    520\u001b[0m       raise ValueError(\n\u001b[0;32m    521\u001b[0m           f\"The candidates tensor must be 2D (got {candidates.shape}).\")\n",
      "\u001b[1;32m~\\anaconda_new\\lib\\site-packages\\tensorflow\\python\\util\\dispatch.py\u001b[0m in \u001b[0;36mwrapper\u001b[1;34m(*args, **kwargs)\u001b[0m\n\u001b[0;32m    204\u001b[0m     \u001b[1;34m\"\"\"Call target, and fall back on dispatchers if there is a TypeError.\"\"\"\u001b[0m\u001b[1;33m\u001b[0m\u001b[1;33m\u001b[0m\u001b[0m\n\u001b[0;32m    205\u001b[0m     \u001b[1;32mtry\u001b[0m\u001b[1;33m:\u001b[0m\u001b[1;33m\u001b[0m\u001b[1;33m\u001b[0m\u001b[0m\n\u001b[1;32m--> 206\u001b[1;33m       \u001b[1;32mreturn\u001b[0m \u001b[0mtarget\u001b[0m\u001b[1;33m(\u001b[0m\u001b[1;33m*\u001b[0m\u001b[0margs\u001b[0m\u001b[1;33m,\u001b[0m \u001b[1;33m**\u001b[0m\u001b[0mkwargs\u001b[0m\u001b[1;33m)\u001b[0m\u001b[1;33m\u001b[0m\u001b[1;33m\u001b[0m\u001b[0m\n\u001b[0m\u001b[0;32m    207\u001b[0m     \u001b[1;32mexcept\u001b[0m \u001b[1;33m(\u001b[0m\u001b[0mTypeError\u001b[0m\u001b[1;33m,\u001b[0m \u001b[0mValueError\u001b[0m\u001b[1;33m)\u001b[0m\u001b[1;33m:\u001b[0m\u001b[1;33m\u001b[0m\u001b[1;33m\u001b[0m\u001b[0m\n\u001b[0;32m    208\u001b[0m       \u001b[1;31m# Note: convert_to_eager_tensor currently raises a ValueError, not a\u001b[0m\u001b[1;33m\u001b[0m\u001b[1;33m\u001b[0m\u001b[0m\n",
      "\u001b[1;32m~\\anaconda_new\\lib\\site-packages\\tensorflow\\python\\ops\\array_ops.py\u001b[0m in \u001b[0;36mrank\u001b[1;34m(input, name)\u001b[0m\n\u001b[0;32m    836\u001b[0m   \u001b[1;33m@\u001b[0m\u001b[0mend_compatibility\u001b[0m\u001b[1;33m\u001b[0m\u001b[1;33m\u001b[0m\u001b[0m\n\u001b[0;32m    837\u001b[0m   \"\"\"\n\u001b[1;32m--> 838\u001b[1;33m   \u001b[1;32mreturn\u001b[0m \u001b[0mrank_internal\u001b[0m\u001b[1;33m(\u001b[0m\u001b[0minput\u001b[0m\u001b[1;33m,\u001b[0m \u001b[0mname\u001b[0m\u001b[1;33m,\u001b[0m \u001b[0moptimize\u001b[0m\u001b[1;33m=\u001b[0m\u001b[1;32mTrue\u001b[0m\u001b[1;33m)\u001b[0m\u001b[1;33m\u001b[0m\u001b[1;33m\u001b[0m\u001b[0m\n\u001b[0m\u001b[0;32m    839\u001b[0m \u001b[1;33m\u001b[0m\u001b[0m\n\u001b[0;32m    840\u001b[0m \u001b[1;33m\u001b[0m\u001b[0m\n",
      "\u001b[1;32m~\\anaconda_new\\lib\\site-packages\\tensorflow\\python\\ops\\array_ops.py\u001b[0m in \u001b[0;36mrank_internal\u001b[1;34m(input, name, optimize)\u001b[0m\n\u001b[0;32m    856\u001b[0m       \u001b[1;32mreturn\u001b[0m \u001b[0mgen_array_ops\u001b[0m\u001b[1;33m.\u001b[0m\u001b[0msize\u001b[0m\u001b[1;33m(\u001b[0m\u001b[0minput\u001b[0m\u001b[1;33m.\u001b[0m\u001b[0mdense_shape\u001b[0m\u001b[1;33m,\u001b[0m \u001b[0mname\u001b[0m\u001b[1;33m=\u001b[0m\u001b[0mname\u001b[0m\u001b[1;33m)\u001b[0m\u001b[1;33m\u001b[0m\u001b[1;33m\u001b[0m\u001b[0m\n\u001b[0;32m    857\u001b[0m     \u001b[1;32melse\u001b[0m\u001b[1;33m:\u001b[0m\u001b[1;33m\u001b[0m\u001b[1;33m\u001b[0m\u001b[0m\n\u001b[1;32m--> 858\u001b[1;33m       \u001b[0minput\u001b[0m \u001b[1;33m=\u001b[0m \u001b[0mops\u001b[0m\u001b[1;33m.\u001b[0m\u001b[0mconvert_to_tensor\u001b[0m\u001b[1;33m(\u001b[0m\u001b[0minput\u001b[0m\u001b[1;33m)\u001b[0m\u001b[1;33m\u001b[0m\u001b[1;33m\u001b[0m\u001b[0m\n\u001b[0m\u001b[0;32m    859\u001b[0m       \u001b[0minput_shape\u001b[0m \u001b[1;33m=\u001b[0m \u001b[0minput\u001b[0m\u001b[1;33m.\u001b[0m\u001b[0mget_shape\u001b[0m\u001b[1;33m(\u001b[0m\u001b[1;33m)\u001b[0m\u001b[1;33m\u001b[0m\u001b[1;33m\u001b[0m\u001b[0m\n\u001b[0;32m    860\u001b[0m       \u001b[1;32mif\u001b[0m \u001b[0moptimize\u001b[0m \u001b[1;32mand\u001b[0m \u001b[0minput_shape\u001b[0m\u001b[1;33m.\u001b[0m\u001b[0mndims\u001b[0m \u001b[1;32mis\u001b[0m \u001b[1;32mnot\u001b[0m \u001b[1;32mNone\u001b[0m\u001b[1;33m:\u001b[0m\u001b[1;33m\u001b[0m\u001b[1;33m\u001b[0m\u001b[0m\n",
      "\u001b[1;32m~\\anaconda_new\\lib\\site-packages\\tensorflow\\python\\profiler\\trace.py\u001b[0m in \u001b[0;36mwrapped\u001b[1;34m(*args, **kwargs)\u001b[0m\n\u001b[0;32m    161\u001b[0m         \u001b[1;32mwith\u001b[0m \u001b[0mTrace\u001b[0m\u001b[1;33m(\u001b[0m\u001b[0mtrace_name\u001b[0m\u001b[1;33m,\u001b[0m \u001b[1;33m**\u001b[0m\u001b[0mtrace_kwargs\u001b[0m\u001b[1;33m)\u001b[0m\u001b[1;33m:\u001b[0m\u001b[1;33m\u001b[0m\u001b[1;33m\u001b[0m\u001b[0m\n\u001b[0;32m    162\u001b[0m           \u001b[1;32mreturn\u001b[0m \u001b[0mfunc\u001b[0m\u001b[1;33m(\u001b[0m\u001b[1;33m*\u001b[0m\u001b[0margs\u001b[0m\u001b[1;33m,\u001b[0m \u001b[1;33m**\u001b[0m\u001b[0mkwargs\u001b[0m\u001b[1;33m)\u001b[0m\u001b[1;33m\u001b[0m\u001b[1;33m\u001b[0m\u001b[0m\n\u001b[1;32m--> 163\u001b[1;33m       \u001b[1;32mreturn\u001b[0m \u001b[0mfunc\u001b[0m\u001b[1;33m(\u001b[0m\u001b[1;33m*\u001b[0m\u001b[0margs\u001b[0m\u001b[1;33m,\u001b[0m \u001b[1;33m**\u001b[0m\u001b[0mkwargs\u001b[0m\u001b[1;33m)\u001b[0m\u001b[1;33m\u001b[0m\u001b[1;33m\u001b[0m\u001b[0m\n\u001b[0m\u001b[0;32m    164\u001b[0m \u001b[1;33m\u001b[0m\u001b[0m\n\u001b[0;32m    165\u001b[0m     \u001b[1;32mreturn\u001b[0m \u001b[0mwrapped\u001b[0m\u001b[1;33m\u001b[0m\u001b[1;33m\u001b[0m\u001b[0m\n",
      "\u001b[1;32m~\\anaconda_new\\lib\\site-packages\\tensorflow\\python\\framework\\ops.py\u001b[0m in \u001b[0;36mconvert_to_tensor\u001b[1;34m(value, dtype, name, as_ref, preferred_dtype, dtype_hint, ctx, accepted_result_types)\u001b[0m\n\u001b[0;32m   1564\u001b[0m \u001b[1;33m\u001b[0m\u001b[0m\n\u001b[0;32m   1565\u001b[0m     \u001b[1;32mif\u001b[0m \u001b[0mret\u001b[0m \u001b[1;32mis\u001b[0m \u001b[1;32mNone\u001b[0m\u001b[1;33m:\u001b[0m\u001b[1;33m\u001b[0m\u001b[1;33m\u001b[0m\u001b[0m\n\u001b[1;32m-> 1566\u001b[1;33m       \u001b[0mret\u001b[0m \u001b[1;33m=\u001b[0m \u001b[0mconversion_func\u001b[0m\u001b[1;33m(\u001b[0m\u001b[0mvalue\u001b[0m\u001b[1;33m,\u001b[0m \u001b[0mdtype\u001b[0m\u001b[1;33m=\u001b[0m\u001b[0mdtype\u001b[0m\u001b[1;33m,\u001b[0m \u001b[0mname\u001b[0m\u001b[1;33m=\u001b[0m\u001b[0mname\u001b[0m\u001b[1;33m,\u001b[0m \u001b[0mas_ref\u001b[0m\u001b[1;33m=\u001b[0m\u001b[0mas_ref\u001b[0m\u001b[1;33m)\u001b[0m\u001b[1;33m\u001b[0m\u001b[1;33m\u001b[0m\u001b[0m\n\u001b[0m\u001b[0;32m   1567\u001b[0m \u001b[1;33m\u001b[0m\u001b[0m\n\u001b[0;32m   1568\u001b[0m     \u001b[1;32mif\u001b[0m \u001b[0mret\u001b[0m \u001b[1;32mis\u001b[0m \u001b[0mNotImplemented\u001b[0m\u001b[1;33m:\u001b[0m\u001b[1;33m\u001b[0m\u001b[1;33m\u001b[0m\u001b[0m\n",
      "\u001b[1;32m~\\anaconda_new\\lib\\site-packages\\tensorflow\\python\\framework\\constant_op.py\u001b[0m in \u001b[0;36m_constant_tensor_conversion_function\u001b[1;34m(v, dtype, name, as_ref)\u001b[0m\n\u001b[0;32m    337\u001b[0m                                          as_ref=False):\n\u001b[0;32m    338\u001b[0m   \u001b[0m_\u001b[0m \u001b[1;33m=\u001b[0m \u001b[0mas_ref\u001b[0m\u001b[1;33m\u001b[0m\u001b[1;33m\u001b[0m\u001b[0m\n\u001b[1;32m--> 339\u001b[1;33m   \u001b[1;32mreturn\u001b[0m \u001b[0mconstant\u001b[0m\u001b[1;33m(\u001b[0m\u001b[0mv\u001b[0m\u001b[1;33m,\u001b[0m \u001b[0mdtype\u001b[0m\u001b[1;33m=\u001b[0m\u001b[0mdtype\u001b[0m\u001b[1;33m,\u001b[0m \u001b[0mname\u001b[0m\u001b[1;33m=\u001b[0m\u001b[0mname\u001b[0m\u001b[1;33m)\u001b[0m\u001b[1;33m\u001b[0m\u001b[1;33m\u001b[0m\u001b[0m\n\u001b[0m\u001b[0;32m    340\u001b[0m \u001b[1;33m\u001b[0m\u001b[0m\n\u001b[0;32m    341\u001b[0m \u001b[1;33m\u001b[0m\u001b[0m\n",
      "\u001b[1;32m~\\anaconda_new\\lib\\site-packages\\tensorflow\\python\\framework\\constant_op.py\u001b[0m in \u001b[0;36mconstant\u001b[1;34m(value, dtype, shape, name)\u001b[0m\n\u001b[0;32m    262\u001b[0m     \u001b[0mValueError\u001b[0m\u001b[1;33m:\u001b[0m \u001b[1;32mif\u001b[0m \u001b[0mcalled\u001b[0m \u001b[0mon\u001b[0m \u001b[0ma\u001b[0m \u001b[0msymbolic\u001b[0m \u001b[0mtensor\u001b[0m\u001b[1;33m.\u001b[0m\u001b[1;33m\u001b[0m\u001b[1;33m\u001b[0m\u001b[0m\n\u001b[0;32m    263\u001b[0m   \"\"\"\n\u001b[1;32m--> 264\u001b[1;33m   return _constant_impl(value, dtype, shape, name, verify_shape=False,\n\u001b[0m\u001b[0;32m    265\u001b[0m                         allow_broadcast=True)\n\u001b[0;32m    266\u001b[0m \u001b[1;33m\u001b[0m\u001b[0m\n",
      "\u001b[1;32m~\\anaconda_new\\lib\\site-packages\\tensorflow\\python\\framework\\constant_op.py\u001b[0m in \u001b[0;36m_constant_impl\u001b[1;34m(value, dtype, shape, name, verify_shape, allow_broadcast)\u001b[0m\n\u001b[0;32m    274\u001b[0m       \u001b[1;32mwith\u001b[0m \u001b[0mtrace\u001b[0m\u001b[1;33m.\u001b[0m\u001b[0mTrace\u001b[0m\u001b[1;33m(\u001b[0m\u001b[1;34m\"tf.constant\"\u001b[0m\u001b[1;33m)\u001b[0m\u001b[1;33m:\u001b[0m\u001b[1;33m\u001b[0m\u001b[1;33m\u001b[0m\u001b[0m\n\u001b[0;32m    275\u001b[0m         \u001b[1;32mreturn\u001b[0m \u001b[0m_constant_eager_impl\u001b[0m\u001b[1;33m(\u001b[0m\u001b[0mctx\u001b[0m\u001b[1;33m,\u001b[0m \u001b[0mvalue\u001b[0m\u001b[1;33m,\u001b[0m \u001b[0mdtype\u001b[0m\u001b[1;33m,\u001b[0m \u001b[0mshape\u001b[0m\u001b[1;33m,\u001b[0m \u001b[0mverify_shape\u001b[0m\u001b[1;33m)\u001b[0m\u001b[1;33m\u001b[0m\u001b[1;33m\u001b[0m\u001b[0m\n\u001b[1;32m--> 276\u001b[1;33m     \u001b[1;32mreturn\u001b[0m \u001b[0m_constant_eager_impl\u001b[0m\u001b[1;33m(\u001b[0m\u001b[0mctx\u001b[0m\u001b[1;33m,\u001b[0m \u001b[0mvalue\u001b[0m\u001b[1;33m,\u001b[0m \u001b[0mdtype\u001b[0m\u001b[1;33m,\u001b[0m \u001b[0mshape\u001b[0m\u001b[1;33m,\u001b[0m \u001b[0mverify_shape\u001b[0m\u001b[1;33m)\u001b[0m\u001b[1;33m\u001b[0m\u001b[1;33m\u001b[0m\u001b[0m\n\u001b[0m\u001b[0;32m    277\u001b[0m \u001b[1;33m\u001b[0m\u001b[0m\n\u001b[0;32m    278\u001b[0m   \u001b[0mg\u001b[0m \u001b[1;33m=\u001b[0m \u001b[0mops\u001b[0m\u001b[1;33m.\u001b[0m\u001b[0mget_default_graph\u001b[0m\u001b[1;33m(\u001b[0m\u001b[1;33m)\u001b[0m\u001b[1;33m\u001b[0m\u001b[1;33m\u001b[0m\u001b[0m\n",
      "\u001b[1;32m~\\anaconda_new\\lib\\site-packages\\tensorflow\\python\\framework\\constant_op.py\u001b[0m in \u001b[0;36m_constant_eager_impl\u001b[1;34m(ctx, value, dtype, shape, verify_shape)\u001b[0m\n\u001b[0;32m    299\u001b[0m \u001b[1;32mdef\u001b[0m \u001b[0m_constant_eager_impl\u001b[0m\u001b[1;33m(\u001b[0m\u001b[0mctx\u001b[0m\u001b[1;33m,\u001b[0m \u001b[0mvalue\u001b[0m\u001b[1;33m,\u001b[0m \u001b[0mdtype\u001b[0m\u001b[1;33m,\u001b[0m \u001b[0mshape\u001b[0m\u001b[1;33m,\u001b[0m \u001b[0mverify_shape\u001b[0m\u001b[1;33m)\u001b[0m\u001b[1;33m:\u001b[0m\u001b[1;33m\u001b[0m\u001b[1;33m\u001b[0m\u001b[0m\n\u001b[0;32m    300\u001b[0m   \u001b[1;34m\"\"\"Implementation of eager constant.\"\"\"\u001b[0m\u001b[1;33m\u001b[0m\u001b[1;33m\u001b[0m\u001b[0m\n\u001b[1;32m--> 301\u001b[1;33m   \u001b[0mt\u001b[0m \u001b[1;33m=\u001b[0m \u001b[0mconvert_to_eager_tensor\u001b[0m\u001b[1;33m(\u001b[0m\u001b[0mvalue\u001b[0m\u001b[1;33m,\u001b[0m \u001b[0mctx\u001b[0m\u001b[1;33m,\u001b[0m \u001b[0mdtype\u001b[0m\u001b[1;33m)\u001b[0m\u001b[1;33m\u001b[0m\u001b[1;33m\u001b[0m\u001b[0m\n\u001b[0m\u001b[0;32m    302\u001b[0m   \u001b[1;32mif\u001b[0m \u001b[0mshape\u001b[0m \u001b[1;32mis\u001b[0m \u001b[1;32mNone\u001b[0m\u001b[1;33m:\u001b[0m\u001b[1;33m\u001b[0m\u001b[1;33m\u001b[0m\u001b[0m\n\u001b[0;32m    303\u001b[0m     \u001b[1;32mreturn\u001b[0m \u001b[0mt\u001b[0m\u001b[1;33m\u001b[0m\u001b[1;33m\u001b[0m\u001b[0m\n",
      "\u001b[1;32m~\\anaconda_new\\lib\\site-packages\\tensorflow\\python\\framework\\constant_op.py\u001b[0m in \u001b[0;36mconvert_to_eager_tensor\u001b[1;34m(value, ctx, dtype)\u001b[0m\n\u001b[0;32m     96\u001b[0m       \u001b[0mdtype\u001b[0m \u001b[1;33m=\u001b[0m \u001b[0mdtypes\u001b[0m\u001b[1;33m.\u001b[0m\u001b[0mas_dtype\u001b[0m\u001b[1;33m(\u001b[0m\u001b[0mdtype\u001b[0m\u001b[1;33m)\u001b[0m\u001b[1;33m.\u001b[0m\u001b[0mas_datatype_enum\u001b[0m\u001b[1;33m\u001b[0m\u001b[1;33m\u001b[0m\u001b[0m\n\u001b[0;32m     97\u001b[0m   \u001b[0mctx\u001b[0m\u001b[1;33m.\u001b[0m\u001b[0mensure_initialized\u001b[0m\u001b[1;33m(\u001b[0m\u001b[1;33m)\u001b[0m\u001b[1;33m\u001b[0m\u001b[1;33m\u001b[0m\u001b[0m\n\u001b[1;32m---> 98\u001b[1;33m   \u001b[1;32mreturn\u001b[0m \u001b[0mops\u001b[0m\u001b[1;33m.\u001b[0m\u001b[0mEagerTensor\u001b[0m\u001b[1;33m(\u001b[0m\u001b[0mvalue\u001b[0m\u001b[1;33m,\u001b[0m \u001b[0mctx\u001b[0m\u001b[1;33m.\u001b[0m\u001b[0mdevice_name\u001b[0m\u001b[1;33m,\u001b[0m \u001b[0mdtype\u001b[0m\u001b[1;33m)\u001b[0m\u001b[1;33m\u001b[0m\u001b[1;33m\u001b[0m\u001b[0m\n\u001b[0m\u001b[0;32m     99\u001b[0m \u001b[1;33m\u001b[0m\u001b[0m\n\u001b[0;32m    100\u001b[0m \u001b[1;33m\u001b[0m\u001b[0m\n",
      "\u001b[1;31mValueError\u001b[0m: Attempt to convert a value (<MapDataset shapes: (None, 32), types: tf.float32>) with an unsupported type (<class 'tensorflow.python.data.ops.dataset_ops.MapDataset'>) to a Tensor."
     ]
    }
   ],
   "source": [
    "# Recommend the 5 best movies for user 42:\n",
    "\n",
    "# Create a model that takes in raw query features, and\n",
    "index = tfrs.layers.factorized_top_k.BruteForce(model.user_model)\n",
    "\n",
    "# recommends movies out of the entire movies dataset.\n",
    "index.index(movies.batch(100).map(model.movie_model), movies)\n",
    "\n",
    "# Get recommendations.\n",
    "_, titles = index(tf.constant([\"0\"]))\n",
    "print(f\"Recommendations for user 42: {titles[0, :5]}\")"
   ]
  },
  {
   "cell_type": "code",
   "execution_count": null,
   "id": "3c9be232-392e-45bd-9a53-b9be66b18f20",
   "metadata": {},
   "outputs": [],
   "source": []
  }
 ],
 "metadata": {
  "kernelspec": {
   "display_name": "Python 3 (ipykernel)",
   "language": "python",
   "name": "python3"
  },
  "language_info": {
   "codemirror_mode": {
    "name": "ipython",
    "version": 3
   },
   "file_extension": ".py",
   "mimetype": "text/x-python",
   "name": "python",
   "nbconvert_exporter": "python",
   "pygments_lexer": "ipython3",
   "version": "3.9.7"
  }
 },
 "nbformat": 4,
 "nbformat_minor": 5
}
